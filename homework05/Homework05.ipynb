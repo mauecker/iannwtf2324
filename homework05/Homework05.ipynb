{
  "cells": [
    {
      "cell_type": "markdown",
      "metadata": {
        "id": "Fp17OlOw_AQv"
      },
      "source": [
        "# Homework 05"
      ]
    },
    {
      "cell_type": "markdown",
      "metadata": {
        "id": "8xyDVVA8_DkF"
      },
      "source": [
        "Training a CNN for CIFAR-10 data"
      ]
    },
    {
      "cell_type": "code",
      "execution_count": 2,
      "metadata": {
        "id": "pe7j6pzZ-4nE"
      },
      "outputs": [],
      "source": [
        "import tensorflow as tf\n",
        "import tensorflow_datasets as tfds\n",
        "import numpy as np\n",
        "import matplotlib.pyplot as plt\n",
        "import tensorflow.keras.layers"
      ]
    },
    {
      "cell_type": "markdown",
      "metadata": {
        "id": "ESqwpSdlEOjQ"
      },
      "source": [
        "information on the dataset:\n",
        "- 60.000 colour images (5:1 ratio for training and test iamges)\n",
        "- labeled with 10 classes (6.000 images per class)\n",
        "- feature dictionary comes with:\n",
        "  - id (string)\n",
        "  - image (uint8) -> shape (32, 32, 3) -> 3 is the colour channel (r,g,b)\n",
        "  - label (int64)"
      ]
    },
    {
      "cell_type": "code",
      "execution_count": 3,
      "metadata": {
        "colab": {
          "base_uri": "https://localhost:8080/",
          "height": 1000,
          "referenced_widgets": [
            "93726022b15e4450ba594f1ba8038ab8",
            "1b7f5ed691b54ef7b9f8f79577b186e4",
            "6811c78db3014539a3306a6a8b4e7236",
            "a4a99b96becb4f82bf85087f7ad76607",
            "4899d424ec77445088253cb1e86050d3",
            "d994625e13334e34bb2662ed18dde92d",
            "eb5ae3ba8dce4cb4b7e84af7c9a47b80",
            "a9de58940e234067b5c3ba684093c3bb",
            "61d0439ad9b14367899b503b468ad2c4",
            "b6d7f1de007840b8bafab92813aac1b8",
            "fc793921d22544fdae11170f58ec1827",
            "25040e02811f46f989a422bee72ceaf4",
            "dcec8b6ff9654d7d9dc5eee466a4fe8e",
            "b8351fe5780f4f42a3f35fd948e90b38",
            "4ef50f9a995940a4875c68b0acb3e6f0",
            "53ec12e7d3054873b83b11cb5500a227",
            "9d4244ca822b4762ba5261eaae34b410",
            "94542fb62ba94182842a7383d5d5b15e",
            "8243dc6a06864c6eb95f9ed7b2ac5ed2",
            "11719528262e46adbf9d405f0007f2c5",
            "06e3939a04ac47ff8eb363e89f4721a9",
            "1d45e0cda50240339e78226c2fc6255a",
            "d9e2d198940344d2ace013235655b1b6",
            "7801782066384d1e8c0a0e40178925ca",
            "e9caaa38d35947d789c1f643e960a8cf",
            "3aa839e6898b43729b22fa0dfe77bd0d",
            "a798b37794ee47edb47c90dce75c3dc1",
            "cf01c9132ac24971be71dc0c18cf024e",
            "c460388b5e094eb4806aa93863ec98b2",
            "fd170bb18d304afaacb942b00aa2de90",
            "5b04119a117944afb34424504fe96b5a",
            "cd26af6253a7494cb82b78e5ae781095",
            "ddfaa4b3da10424e9f818b7f1fd2b81d",
            "0ac78ab7830047b3ad0202ecdecd32d7",
            "502b55ca7b4b47fda74ca122be6e10cf",
            "418ed74d0ff545ee96af81ad2f3f44df",
            "90cf29a2b36e4c51bbff95b35e27afae",
            "2b813a93daa5436dae55840fa513a0c8",
            "ca67063eae084e69a33f897501d0bc02",
            "8f8cfbbd63cb41cc9adc849534c00876",
            "8c14e26b88534720804cfc261b9fc533",
            "b7268e62bd5b40ffa60a340975391f1d",
            "4926914538f34ffbb8cebe4f53662a2d",
            "afa4defe56e44fc297084ac6c7160c36",
            "092339e2d00240c89494e4848db29b5f",
            "98abd35b0ca1408aa5a356d7811e4296",
            "ce5e4242b1564b96816df85087264ee5",
            "1352d30880a74f5a88953cbfb543fb9f",
            "ec8197c837944733838ed5a61d6a5cc2",
            "38a90e11761b452291f94f75d286ba9f",
            "683cd73d5f364f45bed45e74205deced",
            "3fa13f1e15fa425ca4b924a2fe4d7665",
            "518bea2f0004429ab247b90ce3068344",
            "8f1ba64223f04948b29eec00b2957202",
            "04a6f5fc8abe432ba1e97186faf20fb0",
            "4c1ba3dd707e49c3a58ab80934d0c576",
            "37a1a857a51843a7a1117acdf37f1987",
            "219df42069b9439a980473eef8a341c7",
            "c59a3763c6e4418a96e82dc0c80d7ee6",
            "f5c3ddae3d3c4db48db9ecb412763af6",
            "0166cd62e3ae449883a113c8fa215af7",
            "142b65732b4f408496cc1f468ad21595",
            "8c7a26f253084398a86f744d9d564eab",
            "3e3b02ea5426480f80e16ad215e0a0f3",
            "67d1b7ac6e5c48448ce698b2c04f563b",
            "680e42a8ccb34eaab1fca66c08ff3d91",
            "c397296bc30248cc81af6cfc9e4df0a3",
            "eee3e4b7b74a4337858fd15ee24031d9",
            "faedec36ea264bee88e09f9411e46a9f",
            "7cb802abde9e4cf7bcb80d58b1a5db0e",
            "ea4fb83a4d8e4102ab520c1ec1ea7ccd",
            "9406b75c83e3444a9e335d391d6d764f",
            "675c348ae647471381b22f570630e041",
            "d769b16555e84ffe9f1ae162ae2629f6",
            "f9bdee7f7dba4a9991b1ea5e191d0594",
            "cda6d670bcd24db0904fb316744ee79e",
            "5714ab8456914a9ca7a3f6920300a5eb",
            "ab9f3501de744e4280626dc7cad463ad",
            "9af7f7ca3b304b84b830ab7f354a622b",
            "68e1ebd9724842dcbd5628075ce63251",
            "8efeadff5ae3492086e8cf157bbfe7d9",
            "ecb8a5de33684e189ee850e23ff9b4ee",
            "dc984a89846a4e68b3bb5a6c87177f46",
            "6cbd0af73c234334863f5af7c48f1699",
            "0d8993cf0b134689aba5698c37f9fab8",
            "fa5831ccd1b6436fb2efb37f2e7d38db",
            "bb02b14b6b2a4f7b90debe5b3769abcd",
            "4818fb0da54d4e6794a06b3d389637da"
          ]
        },
        "id": "RSPBTAvLEOQT",
        "outputId": "98edc9ad-cc90-47c4-fbdf-b4238dc08c2d"
      },
      "outputs": [
        {
          "output_type": "stream",
          "name": "stdout",
          "text": [
            "Downloading and preparing dataset 162.17 MiB (download: 162.17 MiB, generated: 132.40 MiB, total: 294.58 MiB) to /root/tensorflow_datasets/cifar10/3.0.2...\n"
          ]
        },
        {
          "output_type": "display_data",
          "data": {
            "text/plain": [
              "Dl Completed...: 0 url [00:00, ? url/s]"
            ],
            "application/vnd.jupyter.widget-view+json": {
              "version_major": 2,
              "version_minor": 0,
              "model_id": "93726022b15e4450ba594f1ba8038ab8"
            }
          },
          "metadata": {}
        },
        {
          "output_type": "display_data",
          "data": {
            "text/plain": [
              "Dl Size...: 0 MiB [00:00, ? MiB/s]"
            ],
            "application/vnd.jupyter.widget-view+json": {
              "version_major": 2,
              "version_minor": 0,
              "model_id": "25040e02811f46f989a422bee72ceaf4"
            }
          },
          "metadata": {}
        },
        {
          "output_type": "display_data",
          "data": {
            "text/plain": [
              "Extraction completed...: 0 file [00:00, ? file/s]"
            ],
            "application/vnd.jupyter.widget-view+json": {
              "version_major": 2,
              "version_minor": 0,
              "model_id": "d9e2d198940344d2ace013235655b1b6"
            }
          },
          "metadata": {}
        },
        {
          "output_type": "display_data",
          "data": {
            "text/plain": [
              "Generating splits...:   0%|          | 0/2 [00:00<?, ? splits/s]"
            ],
            "application/vnd.jupyter.widget-view+json": {
              "version_major": 2,
              "version_minor": 0,
              "model_id": "0ac78ab7830047b3ad0202ecdecd32d7"
            }
          },
          "metadata": {}
        },
        {
          "output_type": "display_data",
          "data": {
            "text/plain": [
              "Generating train examples...:   0%|          | 0/50000 [00:00<?, ? examples/s]"
            ],
            "application/vnd.jupyter.widget-view+json": {
              "version_major": 2,
              "version_minor": 0,
              "model_id": "092339e2d00240c89494e4848db29b5f"
            }
          },
          "metadata": {}
        },
        {
          "output_type": "display_data",
          "data": {
            "text/plain": [
              "Shuffling /root/tensorflow_datasets/cifar10/3.0.2.incompleteX1ILUM/cifar10-train.tfrecord*...:   0%|          …"
            ],
            "application/vnd.jupyter.widget-view+json": {
              "version_major": 2,
              "version_minor": 0,
              "model_id": "4c1ba3dd707e49c3a58ab80934d0c576"
            }
          },
          "metadata": {}
        },
        {
          "output_type": "display_data",
          "data": {
            "text/plain": [
              "Generating test examples...:   0%|          | 0/10000 [00:00<?, ? examples/s]"
            ],
            "application/vnd.jupyter.widget-view+json": {
              "version_major": 2,
              "version_minor": 0,
              "model_id": "c397296bc30248cc81af6cfc9e4df0a3"
            }
          },
          "metadata": {}
        },
        {
          "output_type": "display_data",
          "data": {
            "text/plain": [
              "Shuffling /root/tensorflow_datasets/cifar10/3.0.2.incompleteX1ILUM/cifar10-test.tfrecord*...:   0%|          |…"
            ],
            "application/vnd.jupyter.widget-view+json": {
              "version_major": 2,
              "version_minor": 0,
              "model_id": "ab9f3501de744e4280626dc7cad463ad"
            }
          },
          "metadata": {}
        },
        {
          "output_type": "stream",
          "name": "stdout",
          "text": [
            "Dataset cifar10 downloaded and prepared to /root/tensorflow_datasets/cifar10/3.0.2. Subsequent calls will reuse this data.\n"
          ]
        },
        {
          "output_type": "display_data",
          "data": {
            "text/plain": [
              "<Figure size 900x900 with 9 Axes>"
            ],
            "image/png": "[encoded data removed]"
          },
          "metadata": {}
        },
        {
          "output_type": "execute_result",
          "data": {
            "text/plain": [
              "<Figure size 900x900 with 9 Axes>"
            ],
            "image/png": "[encoded data removed]"
          },
          "metadata": {},
          "execution_count": 3
        }
      ],
      "source": [
        "(train_ds, test_ds), ds_info = tfds.load(name='cifar10', split=['train', 'test'], as_supervised=True, with_info=True)\n",
        "tfds.show_examples(train_ds, ds_info)"
      ]
    },
    {
      "cell_type": "markdown",
      "metadata": {
        "id": "vhbgqLHR_ZiR"
      },
      "source": [
        "## 1.1 Prepare the dataset"
      ]
    },
    {
      "cell_type": "code",
      "execution_count": 4,
      "metadata": {
        "id": "wJS2_cM__jqC"
      },
      "outputs": [],
      "source": [
        "def prep_data(img, target):\n",
        "\n",
        "  # no reshaping/flattening needed since we use CNNs\n",
        "  # convert img values to float\n",
        "  img = tf.cast(img, tf.float32)\n",
        "  # pseudo-normalize image values\n",
        "  img = img/128-1\n",
        "  # one hot encode the targets\n",
        "  target = tf.one_hot(target, depth=10)\n",
        "\n",
        "  return img, target\n",
        "\n",
        "def load_and_prep_data(batch_size, shuffle_buffer_size):\n",
        "\n",
        "  # load the tensorflow dataset\n",
        "  train_ds, test_ds = tfds.load(name='cifar10', split=['train', 'test'], as_supervised=True)\n",
        "\n",
        "  # preprocess the data\n",
        "  train_ds = train_ds.map(lambda img, target: prep_data(img, target))\n",
        "  test_ds = test_ds.map(lambda img, target: prep_data(img, target))\n",
        "\n",
        "  # suffle, batch, prefetch the data\n",
        "  train_ds = train_ds.shuffle(shuffle_buffer_size).batch(batch_size).prefetch(2)\n",
        "  test_ds = test_ds.shuffle(shuffle_buffer_size).batch(batch_size).prefetch(2)\n",
        "\n",
        "  return train_ds, test_ds"
      ]
    },
    {
      "cell_type": "markdown",
      "metadata": {
        "id": "mr9t5M30IEjA"
      },
      "source": [
        "## 1.2 The CNN Model\n",
        "\n",
        "in VGG style"
      ]
    },
    {
      "cell_type": "markdown",
      "source": [
        "### Model 1"
      ],
      "metadata": {
        "id": "V_n1-Hy40Hmw"
      }
    },
    {
      "cell_type": "code",
      "execution_count": 5,
      "metadata": {
        "id": "2zbKJNRbIU1x"
      },
      "outputs": [],
      "source": [
        "class cifar10Model1(tf.keras.Model):\n",
        "\n",
        "  def __init__(self):\n",
        "    super(cifar10Model1, self).__init__()\n",
        "\n",
        "    # defining the CNN model\n",
        "    # shape of the input (disregarding batching): 32x32x1\n",
        "\n",
        "    # block 1\n",
        "    self.convl1 = tf.keras.layers.Conv2D(filters=24, kernel_size=3, strides=1, padding='same', activation='relu') # expanding last output dimension by 24: input: 32x32x1, output: 32x32x24\n",
        "    self.convl2 = tf.keras.layers.Conv2D(filters=24, kernel_size=3, strides=1, padding='same', activation='relu') # input: 32x32x24, output: 32x32x24\n",
        "    self.convl3 = tf.keras.layers.Conv2D(filters=24, kernel_size=3, strides=1, padding='same', activation='relu') # input: 32x32x24, output: 32x32x24\n",
        "    self.pool1 = tf.keras.layers.MaxPooling2D(pool_size=2, strides=2) # dividing image size by 2: # input: 32x32x24, output: 16x16x24\n",
        "\n",
        "    # block 2\n",
        "    self.convl4 = tf.keras.layers.Conv2D(filters=24, kernel_size=3, strides=1, padding='same', activation='relu') # expanding last output dimension by 24: input: 16x16x24, output: 16x16x48\n",
        "    self.convl5 = tf.keras.layers.Conv2D(filters=24, kernel_size=3, strides=1, padding='same', activation='relu') # input: 16x16x48, output: 16x16x48\n",
        "    self.convl6 = tf.keras.layers.Conv2D(filters=24, kernel_size=3, strides=1, padding='same', activation='relu') # input: 16x16x48, output: 16x16x48\n",
        "    #self.pool2 = tf.keras.layers.GlobalMaxPooling2D(pool_size=2, strides=2) # dividing image size by 2:  # input: 16x16x48, output: 8x8x48\n",
        "    self.global_pool = tf.keras.layers.GlobalAvgPool2D() # vectorizing the image:  # input: 16x16x48, output: 1x1x48\n",
        "\n",
        "    self.out = tf.keras.layers.Dense(10, activation='softmax')\n",
        "\n",
        "\n",
        "  def call(self, x):\n",
        "\n",
        "    # forward propagation block 1\n",
        "    x = self.convl1(x)\n",
        "    x = self.convl2(x)\n",
        "    x = self.convl3(x)\n",
        "    x = self.pool1(x)\n",
        "\n",
        "    # forward propagation block2\n",
        "    x = self.convl4(x)\n",
        "    x = self.convl5(x)\n",
        "    x = self.convl6(x)\n",
        "    x = self.global_pool(x)\n",
        "\n",
        "    # output layer propagation\n",
        "    x = self.out(x)\n",
        "\n",
        "    return x"
      ]
    },
    {
      "cell_type": "markdown",
      "source": [
        "### Model 2"
      ],
      "metadata": {
        "id": "bLo3anex0JrI"
      }
    },
    {
      "cell_type": "markdown",
      "source": [
        "A second CNN Model to explore the influence of model architecture parameters (task 2) like:\n",
        "- number of layers\n",
        "- size of layers"
      ],
      "metadata": {
        "id": "SDbv8k2MxHr8"
      }
    },
    {
      "cell_type": "code",
      "source": [
        "class cifar10Model2(tf.keras.Model):\n",
        "\n",
        "  def __init__(self):\n",
        "    super(cifar10Model2, self).__init__()\n",
        "\n",
        "    # defining the CNN model\n",
        "    # shape of the input (disregarding batching): 32x32x1\n",
        "\n",
        "    # block 1\n",
        "    self.convl1 = tf.keras.layers.Conv2D(filters=24, kernel_size=3, strides=1, padding='same', activation='relu') # expanding last output dimension by 24: input: 32x32x1, output: 32x32x24\n",
        "    self.convl2 = tf.keras.layers.Conv2D(filters=24, kernel_size=3, strides=1, padding='same', activation='relu') # input: 32x32x24, output: 32x32x24\n",
        "    self.convl3 = tf.keras.layers.Conv2D(filters=24, kernel_size=3, strides=1, padding='same', activation='relu') # input: 32x32x24, output: 32x32x24\n",
        "    self.pool1 = tf.keras.layers.MaxPooling2D(pool_size=2, strides=2) # dividing image size by 2: # input: 32x32x24, output: 16x16x24\n",
        "\n",
        "    # block 2\n",
        "    self.convl4 = tf.keras.layers.Conv2D(filters=24, kernel_size=3, strides=1, padding='same', activation='relu') # expanding last output dimension by 24: input: 16x16x24, output: 16x16x48\n",
        "    self.convl5 = tf.keras.layers.Conv2D(filters=24, kernel_size=3, strides=1, padding='same', activation='relu') # input: 16x16x48, output: 16x16x48\n",
        "    self.convl6 = tf.keras.layers.Conv2D(filters=24, kernel_size=3, strides=1, padding='same', activation='relu') # input: 16x16x48, output: 16x16x48\n",
        "    self.pool2 = tf.keras.layers.MaxPooling2D(pool_size=2, strides=2) # dividing image size by 2:  # input: 16x16x48, output: 8x8x48\n",
        "\n",
        "    # block 3\n",
        "    self.convl7 = tf.keras.layers.Conv2D(filters=24, kernel_size=3, strides=1, padding='same', activation='relu') # expanding last output dimension by 24: input: 8x8x48, output: 8x8x72\n",
        "    self.convl8 = tf.keras.layers.Conv2D(filters=24, kernel_size=3, strides=1, padding='same', activation='relu') # input: 8x8x72, output: 8x8x72\n",
        "    self.convl9 = tf.keras.layers.Conv2D(filters=24, kernel_size=3, strides=1, padding='same', activation='relu') # input: 8x8x72, output: 8x8x72\n",
        "    self.global_pool = tf.keras.layers.GlobalAvgPool2D() # vectorizing the image:  # input: 8x8x72, output: 1x1x72\n",
        "\n",
        "    self.out = tf.keras.layers.Dense(10, activation='softmax')\n",
        "\n",
        "\n",
        "  def call(self, x):\n",
        "\n",
        "    # forward propagation block 1\n",
        "    x = self.convl1(x)\n",
        "    x = self.convl2(x)\n",
        "    x = self.convl3(x)\n",
        "    x = self.pool1(x)\n",
        "\n",
        "    # forward propagation block2\n",
        "    x = self.convl4(x)\n",
        "    x = self.convl5(x)\n",
        "    x = self.convl6(x)\n",
        "    x = self.pool2(x)\n",
        "\n",
        "    # forward propagation block3\n",
        "    x = self.convl7(x)\n",
        "    x = self.convl8(x)\n",
        "    x = self.convl9(x)\n",
        "\n",
        "    x = self.global_pool(x)\n",
        "\n",
        "    # output layer propagation\n",
        "    x = self.out(x)\n",
        "\n",
        "    return x"
      ],
      "metadata": {
        "id": "cR5t3ehfxHFh"
      },
      "execution_count": 6,
      "outputs": []
    },
    {
      "cell_type": "markdown",
      "source": [
        "### Model 3"
      ],
      "metadata": {
        "id": "CP0pTXEx0NwJ"
      }
    },
    {
      "cell_type": "code",
      "source": [
        "class cifar10Model3(tf.keras.Model):\n",
        "\n",
        "  def __init__(self):\n",
        "    super(cifar10Model3, self).__init__()\n",
        "\n",
        "    # defining the CNN model\n",
        "    # shape of the input (disregarding batching): 32x32x1\n",
        "\n",
        "    # block 1\n",
        "    self.convl1 = tf.keras.layers.Conv2D(filters=48, kernel_size=3, strides=1, padding='same', activation='relu') # expanding last output dimension by 48: input: 32x32x1, output: 32x32x48\n",
        "    self.convl2 = tf.keras.layers.Conv2D(filters=48, kernel_size=3, strides=1, padding='same', activation='relu') # input: 32x32x48, output: 32x32x48\n",
        "    self.convl3 = tf.keras.layers.Conv2D(filters=48, kernel_size=3, strides=1, padding='same', activation='relu') # input: 32x32x48, output: 32x32x48\n",
        "    self.pool1 = tf.keras.layers.MaxPooling2D(pool_size=2, strides=2) # dividing image size by 2: # input: 32x32x48, output: 16x16x48\n",
        "\n",
        "    # block 2\n",
        "    self.convl4 = tf.keras.layers.Conv2D(filters=48, kernel_size=3, strides=1, padding='same', activation='relu') # expanding last output dimension by 48: input: 16x16x48, output: 16x16x96\n",
        "    self.convl5 = tf.keras.layers.Conv2D(filters=48, kernel_size=3, strides=1, padding='same', activation='relu') # input: 16x16x96, output: 16x16x96\n",
        "    self.convl6 = tf.keras.layers.Conv2D(filters=48, kernel_size=3, strides=1, padding='same', activation='relu') # input: 16x16x96, output: 16x16x96\n",
        "    self.global_pool = tf.keras.layers.GlobalAvgPool2D() # vectorizing the image:  # input: 8x8x96, output: 1x1x96\n",
        "\n",
        "    self.out = tf.keras.layers.Dense(10, activation='softmax')\n",
        "\n",
        "\n",
        "  def call(self, x):\n",
        "\n",
        "    # forward propagation block 1\n",
        "    x = self.convl1(x)\n",
        "    x = self.convl2(x)\n",
        "    x = self.convl3(x)\n",
        "    x = self.pool1(x)\n",
        "\n",
        "    # forward propagation block2\n",
        "    x = self.convl4(x)\n",
        "    x = self.convl5(x)\n",
        "    x = self.convl6(x)\n",
        "\n",
        "    x = self.global_pool(x)\n",
        "\n",
        "    # output layer propagation\n",
        "    x = self.out(x)\n",
        "\n",
        "    return x"
      ],
      "metadata": {
        "id": "gur8b2iF0PRZ"
      },
      "execution_count": 7,
      "outputs": []
    },
    {
      "cell_type": "markdown",
      "metadata": {
        "id": "GxtM2MOLP3r4"
      },
      "source": [
        "## 1.3 Training the network"
      ]
    },
    {
      "cell_type": "code",
      "execution_count": 8,
      "metadata": {
        "id": "kvvQ1ZR2PruM"
      },
      "outputs": [],
      "source": [
        "# helper functions for training and testing the network\n",
        "\n",
        "# train and test step: just propagating one data sample through the net\n",
        "\n",
        "# train step\n",
        "# one forward and backwards step of the input respective target in the neural network\n",
        "def train_step(model, input, target, loss_func, optimizer):\n",
        "  with tf.GradientTape() as tape:\n",
        "    pred = model(input) # if it does not work -> model(x)\n",
        "    loss = loss_func(target, pred)\n",
        "    acc = np.argmax(target, axis=1) == np.argmax(pred, axis=1)\n",
        "    acc = np.mean(acc)\n",
        "\n",
        "  gradients = tape.gradient(loss, model.trainable_variables)\n",
        "  optimizer.apply_gradients(zip(gradients, model.trainable_variables))\n",
        "\n",
        "  return loss, acc\n",
        "\n",
        "# test step\n",
        "def test_step(model, input, target, loss_func):\n",
        "  pred = model(input)\n",
        "  loss = loss_func(target, pred)\n",
        "  acc = np.argmax(target, axis=1) == np.argmax(pred, axis=1)\n",
        "  acc = np.mean(acc)\n",
        "\n",
        "  return loss, acc\n",
        "\n",
        "\n",
        "# train and test loop:\n",
        "\n",
        "# train loop\n",
        "def train_loop(model, train_ds, loss_func, optimizer):\n",
        "\n",
        "  losses_per_epoch_train = []\n",
        "  accs_per_epoch_train = []\n",
        "\n",
        "  for input, target in train_ds:\n",
        "      loss, acc = train_step(model=model, input=input, target=target, loss_func=loss_func, optimizer=optimizer)\n",
        "      losses_per_epoch_train.append(loss)\n",
        "      accs_per_epoch_train.append(acc)\n",
        "\n",
        "  return losses_per_epoch_train, accs_per_epoch_train\n",
        "\n",
        "# test loop\n",
        "def test_loop(model, test_ds, loss_func):\n",
        "\n",
        "  losses_per_epoch_test = []\n",
        "  accs_per_epoch_test = []\n",
        "\n",
        "  for input, target in test_ds:\n",
        "      loss, acc = test_step(model=model, input=input, target=target, loss_func=loss_func)\n",
        "      losses_per_epoch_test.append(loss)\n",
        "      accs_per_epoch_test.append(acc)\n",
        "\n",
        "  return losses_per_epoch_test, accs_per_epoch_test\n",
        "\n",
        "# actual function\n",
        "\n",
        "# train test loop\n",
        "# actual function that trains and tests the network num_epoch times\n",
        "# training the whole network num_epoch times\n",
        "def train_test_loop(model, train_ds, test_ds, loss_func, optimizer, num_epochs=10):\n",
        "\n",
        "  train_losses = []\n",
        "  train_accs = []\n",
        "  test_losses = []\n",
        "  test_accs = []\n",
        "\n",
        "  # for each epoch: train the network with all training data\n",
        "  for epoch in range(num_epochs):\n",
        "\n",
        "    # training\n",
        "    # for each data sample in the training dataset: train_step for loss and acc\n",
        "    losses_per_epoch_train, accs_per_epoch_train = train_loop(model=model, train_ds=train_ds, loss_func=loss_func, optimizer=optimizer)\n",
        "    # track loss and acc of training data for each epoch by taking mean of loss and acc of all data samples\n",
        "    train_losses.append(tf.reduce_mean(losses_per_epoch_train))\n",
        "    train_accs.append(tf.reduce_mean(accs_per_epoch_train))\n",
        "\n",
        "\n",
        "    # testing\n",
        "    # for each data sample in the testing dataset: test_step for loss and acc\n",
        "    # evaluating the performance of the network in after the current epoch\n",
        "    losses_per_epoch_test, accs_per_epoch_test = test_loop(model=model, test_ds=test_ds, loss_func=loss_func)\n",
        "    # track loss and acc of test data for each epoch\n",
        "    test_losses.append(tf.reduce_mean(losses_per_epoch_test))\n",
        "    test_accs.append(tf.reduce_mean(accs_per_epoch_test))\n",
        "\n",
        "    print(f' After epoch {str(epoch)} the test accuracy is: {test_accs[-1]}')\n",
        "    #print(f' After epoch {str(epoch)} the test loss is: {test_losses[-1]}')\n",
        "\n",
        "  # after the network is trained (and tested) num_epoch times\n",
        "  # train and test losses and accs for each epoch are returned\n",
        "  return train_losses, train_accs, test_losses, test_accs\n",
        "\n"
      ]
    },
    {
      "cell_type": "markdown",
      "source": [
        "Create Model"
      ],
      "metadata": {
        "id": "wgnsGXOby4hY"
      }
    },
    {
      "cell_type": "code",
      "source": [
        "def create_and_run_cifar_model(batch_size, shuffle_buffer_size, loss_func, optimizer, model_nb=1, num_epochs=10):\n",
        "\n",
        "  # loading the data\n",
        "  train_ds, test_ds = load_and_prep_data(batch_size=BATCH_SIZE, shuffle_buffer_size=SHUFFLE_BUFFER_SIZE)\n",
        "  # instantiating the model\n",
        "  if model_nb==1:\n",
        "    model = cifar10Model1()\n",
        "  elif model_nb==2:\n",
        "    model = cifar10Model2()\n",
        "  elif model_nb==3:\n",
        "    model = cifar10Model3()\n",
        "\n",
        "  # train and testing the model\n",
        "  train_losses, train_accs, test_losses, test_accs = train_test_loop(model=model, train_ds=train_ds, test_ds=test_ds, loss_func=LOSS_FUNC, optimizer=OPTIMIZER, num_epochs=NUM_EPOCHS)\n",
        "\n",
        "  return train_losses, train_accs, test_losses, test_accs"
      ],
      "metadata": {
        "id": "QOv2D4KMy34s"
      },
      "execution_count": 9,
      "outputs": []
    },
    {
      "cell_type": "markdown",
      "metadata": {
        "id": "ALDZRn_hlq4X"
      },
      "source": [
        "## 1.4 Visualization\n",
        "\n",
        "visualizing for train and testing of the model the losses and accuracies after every epoch"
      ]
    },
    {
      "cell_type": "code",
      "source": [
        "def visualization(train_losses, train_accs, test_losses, test_accs):\n",
        "\n",
        "  # create 4 subplots\n",
        "  fig, ((ax1, ax2), (ax3, ax4)) = plt.subplots(2, 2)\n",
        "\n",
        "  # train losses\n",
        "  ax1.plot(train_losses, color='red', label='Train')\n",
        "  ax1.set_title('Train Losses')\n",
        "\n",
        "  # train accuracy\n",
        "  ax2.plot(train_accs, color=\"red\", label=\"Train\")\n",
        "  ax2.set_title(\"Train Accuracy\")\n",
        "\n",
        "  # test losses\n",
        "  ax3.plot(test_losses, color=\"blue\", label=\"Test\")\n",
        "  ax3.set_title('Test Losses')\n",
        "\n",
        "  # test accuracy\n",
        "  ax4.plot(test_accs, color=\"blue\", label=\"Test\")\n",
        "  ax4.set_title(\"Test Accuracy\")\n",
        "\n",
        "  # draw gridlines\n",
        "  ax1.grid(True)\n",
        "  ax2.grid(True)\n",
        "  ax3.grid(True)\n",
        "  ax4.grid(True)\n",
        "\n",
        "  # formatting of the plots\n",
        "  fig_title = 'Evaluation: Training vs. Testing'\n",
        "  fig.suptitle(fig_title)\n",
        "  ax1.set_xlabel(\"Epochs\")\n",
        "  ax2.set_xlabel(\"Epochs\")\n",
        "  ax3.set_xlabel(\"Epochs\")\n",
        "  ax4.set_xlabel(\"Epochs\")\n",
        "  fig.legend(loc='outside right upper')\n",
        "  fig.tight_layout()\n",
        "  plt.show()"
      ],
      "metadata": {
        "id": "Q-T0vGqbpfnF"
      },
      "execution_count": 10,
      "outputs": []
    },
    {
      "cell_type": "markdown",
      "source": [
        "# Adjusting hyperparameters and architecture"
      ],
      "metadata": {
        "id": "qN1hYCpNwDDs"
      }
    },
    {
      "cell_type": "markdown",
      "source": [
        "Exploring the influence hyperparameter and training choices\n",
        "can make:\n",
        "- Two different Learning Rates\n",
        "- Two different Architectures (e.g. number and size of layers)\n",
        "- Two different optimizers (Including Adam and one other)\n",
        "- in total 8 settings with respective visualizations"
      ],
      "metadata": {
        "id": "ZGAi14zuwcZY"
      }
    },
    {
      "cell_type": "markdown",
      "source": [
        "## three different architectures\n",
        "- model 1: 2 blocks with 3 Conv2D layers each and 24 filters each\n",
        "- model 2: 3 blocks with 3 Conv2D layers each and 24 filters each\n",
        "- model 3: 2 blocks with 3 Conv2D layers each and 48 filters each\n",
        "\n",
        "-> model 1 and 2 have different number of blocks/layers  \n",
        "-> model 1 and 3 have different number of filters per layer"
      ],
      "metadata": {
        "id": "bykmZSE02ccN"
      }
    },
    {
      "cell_type": "markdown",
      "source": [
        "**Setting 1:** model 1  \n",
        "2 blocks with 3 Conv2D layers each and 24 filters each"
      ],
      "metadata": {
        "id": "VTrVQVUs1293"
      }
    },
    {
      "cell_type": "code",
      "source": [
        "# defining hyperparameters for the model\n",
        "BATCH_SIZE = 32\n",
        "SHUFFLE_BUFFER_SIZE = 1000\n",
        "\n",
        "LOSS_FUNC = tf.keras.losses.CategoricalCrossentropy()\n",
        "\n",
        "LR = 0.001\n",
        "OPTIMIZER = tf.keras.optimizers.Adam(learning_rate=LR)\n",
        "\n",
        "MODEL_NB = 1\n",
        "NUM_EPOCHS = 12\n",
        "\n",
        "# creating, training and testing the model\n",
        "train_losses, train_accs, test_losses, test_accs = create_and_run_cifar_model(batch_size=BATCH_SIZE, shuffle_buffer_size=SHUFFLE_BUFFER_SIZE, loss_func=LOSS_FUNC, optimizer=OPTIMIZER, model_nb=MODEL_NB, num_epochs=NUM_EPOCHS)\n",
        "visualization(train_losses, train_accs, test_losses, test_accs)"
      ],
      "metadata": {
        "id": "8tYs_XUT2Ib0",
        "colab": {
          "base_uri": "https://localhost:8080/",
          "height": 703
        },
        "outputId": "53f8c1f2-9f77-443e-8998-cf2e102a6046"
      },
      "execution_count": 27,
      "outputs": [
        {
          "output_type": "stream",
          "name": "stdout",
          "text": [
            " After epoch 0 the test accuracy is: 0.48552316293929715\n",
            " After epoch 1 the test accuracy is: 0.5540135782747604\n",
            " After epoch 2 the test accuracy is: 0.6032348242811502\n",
            " After epoch 3 the test accuracy is: 0.6299920127795527\n",
            " After epoch 4 the test accuracy is: 0.6459664536741214\n",
            " After epoch 5 the test accuracy is: 0.6460662939297125\n",
            " After epoch 6 the test accuracy is: 0.6546525559105432\n",
            " After epoch 7 the test accuracy is: 0.6761182108626198\n",
            " After epoch 8 the test accuracy is: 0.6785143769968051\n",
            " After epoch 9 the test accuracy is: 0.6688298722044729\n",
            " After epoch 10 the test accuracy is: 0.6972843450479234\n",
            " After epoch 11 the test accuracy is: 0.702076677316294\n"
          ]
        },
        {
          "output_type": "display_data",
          "data": {
            "text/plain": [
              "<Figure size 640x480 with 4 Axes>"
            ],
            "image/png": "[encoded data removed]"
          },
          "metadata": {}
        }
      ]
    },
    {
      "cell_type": "markdown",
      "source": [
        "**Setting 2:** model 2  \n",
        "3 blocks with 3 Conv2D layers each and 24 filters each"
      ],
      "metadata": {
        "id": "6sLpVMAG121y"
      }
    },
    {
      "cell_type": "code",
      "source": [
        "# defining hyperparameters for the model\n",
        "BATCH_SIZE = 32\n",
        "SHUFFLE_BUFFER_SIZE = 1000\n",
        "\n",
        "LOSS_FUNC = tf.keras.losses.CategoricalCrossentropy()\n",
        "\n",
        "LR = 0.001\n",
        "OPTIMIZER = tf.keras.optimizers.Adam(learning_rate=LR)\n",
        "\n",
        "MODEL_NB = 2\n",
        "NUM_EPOCHS = 12\n",
        "\n",
        "# creating, training and testing the model\n",
        "train_losses, train_accs, test_losses, test_accs = create_and_run_cifar_model(batch_size=BATCH_SIZE, shuffle_buffer_size=SHUFFLE_BUFFER_SIZE, loss_func=LOSS_FUNC, optimizer=OPTIMIZER, model_nb=MODEL_NB, num_epochs=NUM_EPOCHS)\n",
        "visualization(train_losses, train_accs, test_losses, test_accs)"
      ],
      "metadata": {
        "id": "CUQbIZs42I3Z",
        "colab": {
          "base_uri": "https://localhost:8080/",
          "height": 703
        },
        "outputId": "8b71995e-5dea-4daa-f503-5436d3a84f3a"
      },
      "execution_count": 30,
      "outputs": [
        {
          "output_type": "stream",
          "name": "stdout",
          "text": [
            " After epoch 0 the test accuracy is: 0.4682507987220447\n",
            " After epoch 1 the test accuracy is: 0.5897563897763578\n",
            " After epoch 2 the test accuracy is: 0.6421725239616614\n",
            " After epoch 3 the test accuracy is: 0.6669329073482428\n",
            " After epoch 4 the test accuracy is: 0.6824081469648562\n",
            " After epoch 5 the test accuracy is: 0.7075678913738019\n",
            " After epoch 6 the test accuracy is: 0.7143570287539937\n",
            " After epoch 7 the test accuracy is: 0.7212460063897763\n",
            " After epoch 8 the test accuracy is: 0.7212460063897763\n",
            " After epoch 9 the test accuracy is: 0.7269369009584664\n",
            " After epoch 10 the test accuracy is: 0.7307308306709265\n",
            " After epoch 11 the test accuracy is: 0.7383186900958466\n"
          ]
        },
        {
          "output_type": "display_data",
          "data": {
            "text/plain": [
              "<Figure size 640x480 with 4 Axes>"
            ],
            "image/png": "[encoded data removed]"
          },
          "metadata": {}
        }
      ]
    },
    {
      "cell_type": "markdown",
      "source": [
        "**Setting 3:** model 3  \n",
        "2 blocks with 3 Conv2D layers each and 48 filters each"
      ],
      "metadata": {
        "id": "HcCNNmf_12qp"
      }
    },
    {
      "cell_type": "code",
      "source": [
        "# defining hyperparameters for the model\n",
        "BATCH_SIZE = 32\n",
        "SHUFFLE_BUFFER_SIZE = 1000\n",
        "\n",
        "LOSS_FUNC = tf.keras.losses.CategoricalCrossentropy()\n",
        "\n",
        "LR = 0.001\n",
        "OPTIMIZER = tf.keras.optimizers.Adam(learning_rate=LR)\n",
        "\n",
        "MODEL_NB = 3\n",
        "NUM_EPOCHS = 12\n",
        "\n",
        "# creating, training and testing the model\n",
        "train_losses, train_accs, test_losses, test_accs = create_and_run_cifar_model(batch_size=BATCH_SIZE, shuffle_buffer_size=SHUFFLE_BUFFER_SIZE, loss_func=LOSS_FUNC, optimizer=OPTIMIZER, model_nb=MODEL_NB, num_epochs=NUM_EPOCHS)\n",
        "visualization(train_losses, train_accs, test_losses, test_accs)"
      ],
      "metadata": {
        "id": "k4QY2GIH2JlS",
        "colab": {
          "base_uri": "https://localhost:8080/",
          "height": 703
        },
        "outputId": "e661d3e9-67bf-437c-aca6-08c291aa7f2d"
      },
      "execution_count": 31,
      "outputs": [
        {
          "output_type": "stream",
          "name": "stdout",
          "text": [
            " After epoch 0 the test accuracy is: 0.5388378594249201\n",
            " After epoch 1 the test accuracy is: 0.6393769968051118\n",
            " After epoch 2 the test accuracy is: 0.6701277955271565\n",
            " After epoch 3 the test accuracy is: 0.6806110223642172\n",
            " After epoch 4 the test accuracy is: 0.7188498402555911\n",
            " After epoch 5 the test accuracy is: 0.7365215654952076\n",
            " After epoch 6 the test accuracy is: 0.7305311501597445\n",
            " After epoch 7 the test accuracy is: 0.7633785942492013\n",
            " After epoch 8 the test accuracy is: 0.762979233226837\n",
            " After epoch 9 the test accuracy is: 0.7623801916932907\n",
            " After epoch 10 the test accuracy is: 0.7827476038338658\n",
            " After epoch 11 the test accuracy is: 0.7741613418530351\n"
          ]
        },
        {
          "output_type": "display_data",
          "data": {
            "text/plain": [
              "<Figure size 640x480 with 4 Axes>"
            ],
            "image/png": "[encoded data removed]"
          },
          "metadata": {}
        }
      ]
    },
    {
      "cell_type": "markdown",
      "source": [
        "## two different learning rates"
      ],
      "metadata": {
        "id": "aJ-1SiJ6KyNq"
      }
    },
    {
      "cell_type": "markdown",
      "source": [
        "learning rate = 0.001 -> setting 1"
      ],
      "metadata": {
        "id": "BC-kF7lTw4m9"
      }
    },
    {
      "cell_type": "markdown",
      "source": [
        "**Setting 4:** learning rate = 0.0001"
      ],
      "metadata": {
        "id": "NDCApSLK1ypi"
      }
    },
    {
      "cell_type": "code",
      "source": [
        "# defining hyperparameters for the model\n",
        "BATCH_SIZE = 32\n",
        "SHUFFLE_BUFFER_SIZE = 1000\n",
        "\n",
        "LOSS_FUNC = tf.keras.losses.CategoricalCrossentropy()\n",
        "\n",
        "LR = 0.0001\n",
        "OPTIMIZER = tf.keras.optimizers.Adam(learning_rate=LR)\n",
        "\n",
        "MODEL_NB = 1\n",
        "NUM_EPOCHS = 12\n",
        "\n",
        "# creating, training and testing the model\n",
        "train_losses, train_accs, test_losses, test_accs = create_and_run_cifar_model(batch_size=BATCH_SIZE, shuffle_buffer_size=SHUFFLE_BUFFER_SIZE, loss_func=LOSS_FUNC, optimizer=OPTIMIZER, model_nb=MODEL_NB, num_epochs=NUM_EPOCHS)\n",
        "visualization(train_losses, train_accs, test_losses, test_accs)"
      ],
      "metadata": {
        "id": "pBErtu1N1yPP",
        "colab": {
          "base_uri": "https://localhost:8080/",
          "height": 703
        },
        "outputId": "87ebd85e-41b5-4b6f-a208-e1b625f18379"
      },
      "execution_count": 33,
      "outputs": [
        {
          "output_type": "stream",
          "name": "stdout",
          "text": [
            " After epoch 0 the test accuracy is: 0.32328274760383385\n",
            " After epoch 1 the test accuracy is: 0.3789936102236422\n",
            " After epoch 2 the test accuracy is: 0.41373801916932906\n",
            " After epoch 3 the test accuracy is: 0.4047523961661342\n",
            " After epoch 4 the test accuracy is: 0.4252196485623003\n",
            " After epoch 5 the test accuracy is: 0.4353035143769968\n",
            " After epoch 6 the test accuracy is: 0.44738418530351437\n",
            " After epoch 7 the test accuracy is: 0.4623602236421725\n",
            " After epoch 8 the test accuracy is: 0.47184504792332266\n",
            " After epoch 9 the test accuracy is: 0.48642172523961663\n",
            " After epoch 10 the test accuracy is: 0.4866214057507987\n",
            " After epoch 11 the test accuracy is: 0.4911142172523962\n"
          ]
        },
        {
          "output_type": "display_data",
          "data": {
            "text/plain": [
              "<Figure size 640x480 with 4 Axes>"
            ],
            "image/png": "[encoded data removed]"
          },
          "metadata": {}
        }
      ]
    },
    {
      "cell_type": "markdown",
      "source": [
        "**Setting 5:** learning rate = 0.0005"
      ],
      "metadata": {
        "id": "nIKg3UBE6Bfk"
      }
    },
    {
      "cell_type": "code",
      "source": [
        "# defining hyperparameters for the model\n",
        "BATCH_SIZE = 32\n",
        "SHUFFLE_BUFFER_SIZE = 1000\n",
        "\n",
        "LOSS_FUNC = tf.keras.losses.CategoricalCrossentropy()\n",
        "\n",
        "LR = 0.0005\n",
        "OPTIMIZER = tf.keras.optimizers.Adam(learning_rate=LR)\n",
        "\n",
        "MODEL_NB = 1\n",
        "NUM_EPOCHS = 12\n",
        "\n",
        "# creating, training and testing the model\n",
        "train_losses, train_accs, test_losses, test_accs = create_and_run_cifar_model(batch_size=BATCH_SIZE, shuffle_buffer_size=SHUFFLE_BUFFER_SIZE, loss_func=LOSS_FUNC, optimizer=OPTIMIZER, model_nb=MODEL_NB, num_epochs=NUM_EPOCHS)\n",
        "visualization(train_losses, train_accs, test_losses, test_accs)"
      ],
      "metadata": {
        "id": "47lp5No06HG5"
      },
      "execution_count": null,
      "outputs": []
    },
    {
      "cell_type": "markdown",
      "source": [
        "## two different optimizers\n",
        "\n",
        "- Adam optimizer\n",
        "- SGD optimizer"
      ],
      "metadata": {
        "id": "YkTcU-In2j2i"
      }
    },
    {
      "cell_type": "markdown",
      "source": [
        "Adam optimizer -> setting 1"
      ],
      "metadata": {
        "id": "eyfeEtfe12hH"
      }
    },
    {
      "cell_type": "markdown",
      "source": [
        "**Setting 6:** SGD optimizer"
      ],
      "metadata": {
        "id": "9aU40TEQ11iC"
      }
    },
    {
      "cell_type": "code",
      "source": [
        "# defining hyperparameters for the model\n",
        "BATCH_SIZE = 32\n",
        "SHUFFLE_BUFFER_SIZE = 1000\n",
        "\n",
        "LOSS_FUNC = tf.keras.losses.CategoricalCrossentropy()\n",
        "\n",
        "LR = 0.001\n",
        "OPTIMIZER = tf.keras.optimizers.SGD(learning_rate=LR)\n",
        "\n",
        "MODEL_NB = 1\n",
        "NUM_EPOCHS = 12\n",
        "\n",
        "# creating, training and testing the model\n",
        "train_losses, train_accs, test_losses, test_accs = create_and_run_cifar_model(batch_size=BATCH_SIZE, shuffle_buffer_size=SHUFFLE_BUFFER_SIZE, loss_func=LOSS_FUNC, optimizer=OPTIMIZER, model_nb=MODEL_NB, num_epochs=NUM_EPOCHS)\n",
        "visualization(train_losses, train_accs, test_losses, test_accs)"
      ],
      "metadata": {
        "colab": {
          "base_uri": "https://localhost:8080/",
          "height": 758
        },
        "id": "dKt1FM_uu6bF",
        "outputId": "f5b81b48-71cb-44d0-c92d-767082de7478"
      },
      "execution_count": 11,
      "outputs": [
        {
          "output_type": "stream",
          "name": "stderr",
          "text": [
            "WARNING:tensorflow:5 out of the last 5 calls to <function _BaseOptimizer._update_step_xla at 0x7a7e1797ab00> triggered tf.function retracing. Tracing is expensive and the excessive number of tracings could be due to (1) creating @tf.function repeatedly in a loop, (2) passing tensors with different shapes, (3) passing Python objects instead of tensors. For (1), please define your @tf.function outside of the loop. For (2), @tf.function has reduce_retracing=True option that can avoid unnecessary retracing. For (3), please refer to https://www.tensorflow.org/guide/function#controlling_retracing and https://www.tensorflow.org/api_docs/python/tf/function for  more details.\n",
            "WARNING:tensorflow:6 out of the last 6 calls to <function _BaseOptimizer._update_step_xla at 0x7a7e1797ab00> triggered tf.function retracing. Tracing is expensive and the excessive number of tracings could be due to (1) creating @tf.function repeatedly in a loop, (2) passing tensors with different shapes, (3) passing Python objects instead of tensors. For (1), please define your @tf.function outside of the loop. For (2), @tf.function has reduce_retracing=True option that can avoid unnecessary retracing. For (3), please refer to https://www.tensorflow.org/guide/function#controlling_retracing and https://www.tensorflow.org/api_docs/python/tf/function for  more details.\n"
          ]
        },
        {
          "output_type": "stream",
          "name": "stdout",
          "text": [
            " After epoch 0 the test accuracy is: 0.10173722044728435\n",
            " After epoch 1 the test accuracy is: 0.11980830670926518\n",
            " After epoch 2 the test accuracy is: 0.1369808306709265\n",
            " After epoch 3 the test accuracy is: 0.14636581469648563\n",
            " After epoch 4 the test accuracy is: 0.15235623003194887\n",
            " After epoch 5 the test accuracy is: 0.15195686900958466\n",
            " After epoch 6 the test accuracy is: 0.1483626198083067\n",
            " After epoch 7 the test accuracy is: 0.14257188498402557\n",
            " After epoch 8 the test accuracy is: 0.1391773162939297\n",
            " After epoch 9 the test accuracy is: 0.1393769968051118\n",
            " After epoch 10 the test accuracy is: 0.1420726837060703\n",
            " After epoch 11 the test accuracy is: 0.14626597444089456\n"
          ]
        },
        {
          "output_type": "display_data",
          "data": {
            "text/plain": [
              "<Figure size 640x480 with 4 Axes>"
            ],
            "image/png": "[encoded data removed]"
          },
          "metadata": {}
        }
      ]
    },
    {
      "cell_type": "markdown",
      "source": [
        "### two different batch sizes"
      ],
      "metadata": {
        "id": "flUytQBCJ69q"
      }
    },
    {
      "cell_type": "markdown",
      "source": [
        "batch_size = 32 -> setting 1"
      ],
      "metadata": {
        "id": "SHHYaKlYKMkG"
      }
    },
    {
      "cell_type": "markdown",
      "source": [
        "**Setting 7:** batch size = 64"
      ],
      "metadata": {
        "id": "w4BQW5qrKMcz"
      }
    },
    {
      "cell_type": "code",
      "source": [
        "# defining hyperparameters for the model\n",
        "BATCH_SIZE = 64\n",
        "SHUFFLE_BUFFER_SIZE = 1000\n",
        "\n",
        "LOSS_FUNC = tf.keras.losses.CategoricalCrossentropy()\n",
        "\n",
        "LR = 0.001\n",
        "OPTIMIZER = tf.keras.optimizers.Adam(learning_rate=LR)\n",
        "\n",
        "MODEL_NB = 1\n",
        "NUM_EPOCHS = 12\n",
        "\n",
        "# creating, training and testing the model\n",
        "train_losses, train_accs, test_losses, test_accs = create_and_run_cifar_model(batch_size=BATCH_SIZE, shuffle_buffer_size=SHUFFLE_BUFFER_SIZE, loss_func=LOSS_FUNC, optimizer=OPTIMIZER, model_nb=MODEL_NB, num_epochs=NUM_EPOCHS)\n",
        "visualization(train_losses, train_accs, test_losses, test_accs)"
      ],
      "metadata": {
        "colab": {
          "base_uri": "https://localhost:8080/",
          "height": 703
        },
        "id": "u9Gx67YXvGkO",
        "outputId": "60711252-1deb-475a-f649-0d22088e9783"
      },
      "execution_count": 12,
      "outputs": [
        {
          "output_type": "stream",
          "name": "stdout",
          "text": [
            " After epoch 0 the test accuracy is: 0.4056528662420382\n",
            " After epoch 1 the test accuracy is: 0.4830812101910828\n",
            " After epoch 2 the test accuracy is: 0.5466759554140127\n",
            " After epoch 3 the test accuracy is: 0.5913614649681529\n",
            " After epoch 4 the test accuracy is: 0.6124601910828026\n",
            " After epoch 5 the test accuracy is: 0.6274880573248408\n",
            " After epoch 6 the test accuracy is: 0.6469944267515924\n",
            " After epoch 7 the test accuracy is: 0.6518710191082803\n",
            " After epoch 8 the test accuracy is: 0.6623208598726115\n",
            " After epoch 9 the test accuracy is: 0.6579418789808917\n",
            " After epoch 10 the test accuracy is: 0.6799363057324841\n",
            " After epoch 11 the test accuracy is: 0.6910828025477707\n"
          ]
        },
        {
          "output_type": "display_data",
          "data": {
            "text/plain": [
              "<Figure size 640x480 with 4 Axes>"
            ],
            "image/png": "[encoded data removed]"
          },
          "metadata": {}
        }
      ]
    },
    {
      "cell_type": "markdown",
      "source": [
        "## combination of hyperparameters\n",
        "combining hyperparameters that seemed to work best"
      ],
      "metadata": {
        "id": "5jfqBryc3zOR"
      }
    },
    {
      "cell_type": "markdown",
      "source": [
        "**Setting 8:**\n",
        "- model architecture: 3 (-> 2 blocks with 3 Conv2D layers each and 48 filters each) (better)\n",
        "- learning rate: 0.001 (much better)\n",
        "- optimizer: Adam (much better than SGD)\n",
        "- batch size: 32 (only slightly better than 64)"
      ],
      "metadata": {
        "id": "tidG29j411Be"
      }
    },
    {
      "cell_type": "code",
      "source": [
        "# defining hyperparameters for the model\n",
        "BATCH_SIZE = 32\n",
        "SHUFFLE_BUFFER_SIZE = 1000\n",
        "\n",
        "LOSS_FUNC = tf.keras.losses.CategoricalCrossentropy()\n",
        "\n",
        "LR = 0.001\n",
        "OPTIMIZER = tf.keras.optimizers.Adam(learning_rate=LR)\n",
        "\n",
        "MODEL_NB = 3\n",
        "NUM_EPOCHS = 12\n",
        "\n",
        "# creating, training and testing the model\n",
        "train_losses, train_accs, test_losses, test_accs = create_and_run_cifar_model(batch_size=BATCH_SIZE, shuffle_buffer_size=SHUFFLE_BUFFER_SIZE, loss_func=LOSS_FUNC, optimizer=OPTIMIZER, model_nb=MODEL_NB, num_epochs=NUM_EPOCHS)\n",
        "visualization(train_losses, train_accs, test_losses, test_accs)"
      ],
      "metadata": {
        "id": "WGilsZ2j2L4M",
        "colab": {
          "base_uri": "https://localhost:8080/",
          "height": 703
        },
        "outputId": "82152053-aa72-4432-eddb-8d67e21c72d3"
      },
      "execution_count": 36,
      "outputs": [
        {
          "metadata": {
            "tags": null
          },
          "name": "stdout",
          "output_type": "stream",
          "text": [
            " After epoch 0 the test accuracy is: 0.45431926751592355\n",
            " After epoch 1 the test accuracy is: 0.5838972929936306\n",
            " After epoch 2 the test accuracy is: 0.6412221337579618\n",
            " After epoch 3 the test accuracy is: 0.6656050955414012\n",
            " After epoch 4 the test accuracy is: 0.6921775477707006\n",
            " After epoch 5 the test accuracy is: 0.6827229299363057\n",
            " After epoch 6 the test accuracy is: 0.7268113057324841\n",
            " After epoch 7 the test accuracy is: 0.7380573248407644\n",
            " After epoch 8 the test accuracy is: 0.7358678343949044\n",
            " After epoch 9 the test accuracy is: 0.7379578025477707\n",
            " After epoch 10 the test accuracy is: 0.7498009554140127\n",
            " After epoch 11 the test accuracy is: 0.7543789808917197\n"
          ]
        },
        {
          "data": {
            "image/png": "[encoded data removed]",
            "text/plain": [
              "<Figure size 640x480 with 4 Axes>"
            ]
          },
          "metadata": {},
          "output_type": "display_data"
        }
      ]
    }
  ],
  "metadata": {
    "colab": {
      "provenance": [],
      "gpuType": "T4"
    },
    "kernelspec": {
      "display_name": "Python 3",
      "name": "python3"
    },
    "language_info": {
      "name": "python"
    },
    "accelerator": "GPU",
    "widgets": {
      "application/vnd.jupyter.widget-state+json": {
        "93726022b15e4450ba594f1ba8038ab8": {
          "model_module": "@jupyter-widgets/controls",
          "model_name": "HBoxModel",
          "model_module_version": "1.5.0",
          "state": {
            "_dom_classes": [],
            "_model_module": "@jupyter-widgets/controls",
            "_model_module_version": "1.5.0",
            "_model_name": "HBoxModel",
            "_view_count": null,
            "_view_module": "@jupyter-widgets/controls",
            "_view_module_version": "1.5.0",
            "_view_name": "HBoxView",
            "box_style": "",
            "children": [
              "IPY_MODEL_1b7f5ed691b54ef7b9f8f79577b186e4",
              "IPY_MODEL_6811c78db3014539a3306a6a8b4e7236",
              "IPY_MODEL_a4a99b96becb4f82bf85087f7ad76607"
            ],
            "layout": "IPY_MODEL_4899d424ec77445088253cb1e86050d3"
          }
        },
        "1b7f5ed691b54ef7b9f8f79577b186e4": {
          "model_module": "@jupyter-widgets/controls",
          "model_name": "HTMLModel",
          "model_module_version": "1.5.0",
          "state": {
            "_dom_classes": [],
            "_model_module": "@jupyter-widgets/controls",
            "_model_module_version": "1.5.0",
            "_model_name": "HTMLModel",
            "_view_count": null,
            "_view_module": "@jupyter-widgets/controls",
            "_view_module_version": "1.5.0",
            "_view_name": "HTMLView",
            "description": "",
            "description_tooltip": null,
            "layout": "IPY_MODEL_d994625e13334e34bb2662ed18dde92d",
            "placeholder": "​",
            "style": "IPY_MODEL_eb5ae3ba8dce4cb4b7e84af7c9a47b80",
            "value": "Dl Completed...: 100%"
          }
        },
        "6811c78db3014539a3306a6a8b4e7236": {
          "model_module": "@jupyter-widgets/controls",
          "model_name": "FloatProgressModel",
          "model_module_version": "1.5.0",
          "state": {
            "_dom_classes": [],
            "_model_module": "@jupyter-widgets/controls",
            "_model_module_version": "1.5.0",
            "_model_name": "FloatProgressModel",
            "_view_count": null,
            "_view_module": "@jupyter-widgets/controls",
            "_view_module_version": "1.5.0",
            "_view_name": "ProgressView",
            "bar_style": "success",
            "description": "",
            "description_tooltip": null,
            "layout": "IPY_MODEL_a9de58940e234067b5c3ba684093c3bb",
            "max": 1,
            "min": 0,
            "orientation": "horizontal",
            "style": "IPY_MODEL_61d0439ad9b14367899b503b468ad2c4",
            "value": 1
          }
        },
        "a4a99b96becb4f82bf85087f7ad76607": {
          "model_module": "@jupyter-widgets/controls",
          "model_name": "HTMLModel",
          "model_module_version": "1.5.0",
          "state": {
            "_dom_classes": [],
            "_model_module": "@jupyter-widgets/controls",
            "_model_module_version": "1.5.0",
            "_model_name": "HTMLModel",
            "_view_count": null,
            "_view_module": "@jupyter-widgets/controls",
            "_view_module_version": "1.5.0",
            "_view_name": "HTMLView",
            "description": "",
            "description_tooltip": null,
            "layout": "IPY_MODEL_b6d7f1de007840b8bafab92813aac1b8",
            "placeholder": "​",
            "style": "IPY_MODEL_fc793921d22544fdae11170f58ec1827",
            "value": " 1/1 [00:04&lt;00:00,  2.75s/ url]"
          }
        },
        "4899d424ec77445088253cb1e86050d3": {
          "model_module": "@jupyter-widgets/base",
          "model_name": "LayoutModel",
          "model_module_version": "1.2.0",
          "state": {
            "_model_module": "@jupyter-widgets/base",
            "_model_module_version": "1.2.0",
            "_model_name": "LayoutModel",
            "_view_count": null,
            "_view_module": "@jupyter-widgets/base",
            "_view_module_version": "1.2.0",
            "_view_name": "LayoutView",
            "align_content": null,
            "align_items": null,
            "align_self": null,
            "border": null,
            "bottom": null,
            "display": null,
            "flex": null,
            "flex_flow": null,
            "grid_area": null,
            "grid_auto_columns": null,
            "grid_auto_flow": null,
            "grid_auto_rows": null,
            "grid_column": null,
            "grid_gap": null,
            "grid_row": null,
            "grid_template_areas": null,
            "grid_template_columns": null,
            "grid_template_rows": null,
            "height": null,
            "justify_content": null,
            "justify_items": null,
            "left": null,
            "margin": null,
            "max_height": null,
            "max_width": null,
            "min_height": null,
            "min_width": null,
            "object_fit": null,
            "object_position": null,
            "order": null,
            "overflow": null,
            "overflow_x": null,
            "overflow_y": null,
            "padding": null,
            "right": null,
            "top": null,
            "visibility": null,
            "width": null
          }
        },
        "d994625e13334e34bb2662ed18dde92d": {
          "model_module": "@jupyter-widgets/base",
          "model_name": "LayoutModel",
          "model_module_version": "1.2.0",
          "state": {
            "_model_module": "@jupyter-widgets/base",
            "_model_module_version": "1.2.0",
            "_model_name": "LayoutModel",
            "_view_count": null,
            "_view_module": "@jupyter-widgets/base",
            "_view_module_version": "1.2.0",
            "_view_name": "LayoutView",
            "align_content": null,
            "align_items": null,
            "align_self": null,
            "border": null,
            "bottom": null,
            "display": null,
            "flex": null,
            "flex_flow": null,
            "grid_area": null,
            "grid_auto_columns": null,
            "grid_auto_flow": null,
            "grid_auto_rows": null,
            "grid_column": null,
            "grid_gap": null,
            "grid_row": null,
            "grid_template_areas": null,
            "grid_template_columns": null,
            "grid_template_rows": null,
            "height": null,
            "justify_content": null,
            "justify_items": null,
            "left": null,
            "margin": null,
            "max_height": null,
            "max_width": null,
            "min_height": null,
            "min_width": null,
            "object_fit": null,
            "object_position": null,
            "order": null,
            "overflow": null,
            "overflow_x": null,
            "overflow_y": null,
            "padding": null,
            "right": null,
            "top": null,
            "visibility": null,
            "width": null
          }
        },
        "eb5ae3ba8dce4cb4b7e84af7c9a47b80": {
          "model_module": "@jupyter-widgets/controls",
          "model_name": "DescriptionStyleModel",
          "model_module_version": "1.5.0",
          "state": {
            "_model_module": "@jupyter-widgets/controls",
            "_model_module_version": "1.5.0",
            "_model_name": "DescriptionStyleModel",
            "_view_count": null,
            "_view_module": "@jupyter-widgets/base",
            "_view_module_version": "1.2.0",
            "_view_name": "StyleView",
            "description_width": ""
          }
        },
        "a9de58940e234067b5c3ba684093c3bb": {
          "model_module": "@jupyter-widgets/base",
          "model_name": "LayoutModel",
          "model_module_version": "1.2.0",
          "state": {
            "_model_module": "@jupyter-widgets/base",
            "_model_module_version": "1.2.0",
            "_model_name": "LayoutModel",
            "_view_count": null,
            "_view_module": "@jupyter-widgets/base",
            "_view_module_version": "1.2.0",
            "_view_name": "LayoutView",
            "align_content": null,
            "align_items": null,
            "align_self": null,
            "border": null,
            "bottom": null,
            "display": null,
            "flex": null,
            "flex_flow": null,
            "grid_area": null,
            "grid_auto_columns": null,
            "grid_auto_flow": null,
            "grid_auto_rows": null,
            "grid_column": null,
            "grid_gap": null,
            "grid_row": null,
            "grid_template_areas": null,
            "grid_template_columns": null,
            "grid_template_rows": null,
            "height": null,
            "justify_content": null,
            "justify_items": null,
            "left": null,
            "margin": null,
            "max_height": null,
            "max_width": null,
            "min_height": null,
            "min_width": null,
            "object_fit": null,
            "object_position": null,
            "order": null,
            "overflow": null,
            "overflow_x": null,
            "overflow_y": null,
            "padding": null,
            "right": null,
            "top": null,
            "visibility": null,
            "width": "20px"
          }
        },
        "61d0439ad9b14367899b503b468ad2c4": {
          "model_module": "@jupyter-widgets/controls",
          "model_name": "ProgressStyleModel",
          "model_module_version": "1.5.0",
          "state": {
            "_model_module": "@jupyter-widgets/controls",
            "_model_module_version": "1.5.0",
            "_model_name": "ProgressStyleModel",
            "_view_count": null,
            "_view_module": "@jupyter-widgets/base",
            "_view_module_version": "1.2.0",
            "_view_name": "StyleView",
            "bar_color": null,
            "description_width": ""
          }
        },
        "b6d7f1de007840b8bafab92813aac1b8": {
          "model_module": "@jupyter-widgets/base",
          "model_name": "LayoutModel",
          "model_module_version": "1.2.0",
          "state": {
            "_model_module": "@jupyter-widgets/base",
            "_model_module_version": "1.2.0",
            "_model_name": "LayoutModel",
            "_view_count": null,
            "_view_module": "@jupyter-widgets/base",
            "_view_module_version": "1.2.0",
            "_view_name": "LayoutView",
            "align_content": null,
            "align_items": null,
            "align_self": null,
            "border": null,
            "bottom": null,
            "display": null,
            "flex": null,
            "flex_flow": null,
            "grid_area": null,
            "grid_auto_columns": null,
            "grid_auto_flow": null,
            "grid_auto_rows": null,
            "grid_column": null,
            "grid_gap": null,
            "grid_row": null,
            "grid_template_areas": null,
            "grid_template_columns": null,
            "grid_template_rows": null,
            "height": null,
            "justify_content": null,
            "justify_items": null,
            "left": null,
            "margin": null,
            "max_height": null,
            "max_width": null,
            "min_height": null,
            "min_width": null,
            "object_fit": null,
            "object_position": null,
            "order": null,
            "overflow": null,
            "overflow_x": null,
            "overflow_y": null,
            "padding": null,
            "right": null,
            "top": null,
            "visibility": null,
            "width": null
          }
        },
        "fc793921d22544fdae11170f58ec1827": {
          "model_module": "@jupyter-widgets/controls",
          "model_name": "DescriptionStyleModel",
          "model_module_version": "1.5.0",
          "state": {
            "_model_module": "@jupyter-widgets/controls",
            "_model_module_version": "1.5.0",
            "_model_name": "DescriptionStyleModel",
            "_view_count": null,
            "_view_module": "@jupyter-widgets/base",
            "_view_module_version": "1.2.0",
            "_view_name": "StyleView",
            "description_width": ""
          }
        },
        "25040e02811f46f989a422bee72ceaf4": {
          "model_module": "@jupyter-widgets/controls",
          "model_name": "HBoxModel",
          "model_module_version": "1.5.0",
          "state": {
            "_dom_classes": [],
            "_model_module": "@jupyter-widgets/controls",
            "_model_module_version": "1.5.0",
            "_model_name": "HBoxModel",
            "_view_count": null,
            "_view_module": "@jupyter-widgets/controls",
            "_view_module_version": "1.5.0",
            "_view_name": "HBoxView",
            "box_style": "",
            "children": [
              "IPY_MODEL_dcec8b6ff9654d7d9dc5eee466a4fe8e",
              "IPY_MODEL_b8351fe5780f4f42a3f35fd948e90b38",
              "IPY_MODEL_4ef50f9a995940a4875c68b0acb3e6f0"
            ],
            "layout": "IPY_MODEL_53ec12e7d3054873b83b11cb5500a227"
          }
        },
        "dcec8b6ff9654d7d9dc5eee466a4fe8e": {
          "model_module": "@jupyter-widgets/controls",
          "model_name": "HTMLModel",
          "model_module_version": "1.5.0",
          "state": {
            "_dom_classes": [],
            "_model_module": "@jupyter-widgets/controls",
            "_model_module_version": "1.5.0",
            "_model_name": "HTMLModel",
            "_view_count": null,
            "_view_module": "@jupyter-widgets/controls",
            "_view_module_version": "1.5.0",
            "_view_name": "HTMLView",
            "description": "",
            "description_tooltip": null,
            "layout": "IPY_MODEL_9d4244ca822b4762ba5261eaae34b410",
            "placeholder": "​",
            "style": "IPY_MODEL_94542fb62ba94182842a7383d5d5b15e",
            "value": "Dl Size...: 100%"
          }
        },
        "b8351fe5780f4f42a3f35fd948e90b38": {
          "model_module": "@jupyter-widgets/controls",
          "model_name": "FloatProgressModel",
          "model_module_version": "1.5.0",
          "state": {
            "_dom_classes": [],
            "_model_module": "@jupyter-widgets/controls",
            "_model_module_version": "1.5.0",
            "_model_name": "FloatProgressModel",
            "_view_count": null,
            "_view_module": "@jupyter-widgets/controls",
            "_view_module_version": "1.5.0",
            "_view_name": "ProgressView",
            "bar_style": "success",
            "description": "",
            "description_tooltip": null,
            "layout": "IPY_MODEL_8243dc6a06864c6eb95f9ed7b2ac5ed2",
            "max": 1,
            "min": 0,
            "orientation": "horizontal",
            "style": "IPY_MODEL_11719528262e46adbf9d405f0007f2c5",
            "value": 1
          }
        },
        "4ef50f9a995940a4875c68b0acb3e6f0": {
          "model_module": "@jupyter-widgets/controls",
          "model_name": "HTMLModel",
          "model_module_version": "1.5.0",
          "state": {
            "_dom_classes": [],
            "_model_module": "@jupyter-widgets/controls",
            "_model_module_version": "1.5.0",
            "_model_name": "HTMLModel",
            "_view_count": null,
            "_view_module": "@jupyter-widgets/controls",
            "_view_module_version": "1.5.0",
            "_view_name": "HTMLView",
            "description": "",
            "description_tooltip": null,
            "layout": "IPY_MODEL_06e3939a04ac47ff8eb363e89f4721a9",
            "placeholder": "​",
            "style": "IPY_MODEL_1d45e0cda50240339e78226c2fc6255a",
            "value": " 162/162 [00:04&lt;00:00, 67.22 MiB/s]"
          }
        },
        "53ec12e7d3054873b83b11cb5500a227": {
          "model_module": "@jupyter-widgets/base",
          "model_name": "LayoutModel",
          "model_module_version": "1.2.0",
          "state": {
            "_model_module": "@jupyter-widgets/base",
            "_model_module_version": "1.2.0",
            "_model_name": "LayoutModel",
            "_view_count": null,
            "_view_module": "@jupyter-widgets/base",
            "_view_module_version": "1.2.0",
            "_view_name": "LayoutView",
            "align_content": null,
            "align_items": null,
            "align_self": null,
            "border": null,
            "bottom": null,
            "display": null,
            "flex": null,
            "flex_flow": null,
            "grid_area": null,
            "grid_auto_columns": null,
            "grid_auto_flow": null,
            "grid_auto_rows": null,
            "grid_column": null,
            "grid_gap": null,
            "grid_row": null,
            "grid_template_areas": null,
            "grid_template_columns": null,
            "grid_template_rows": null,
            "height": null,
            "justify_content": null,
            "justify_items": null,
            "left": null,
            "margin": null,
            "max_height": null,
            "max_width": null,
            "min_height": null,
            "min_width": null,
            "object_fit": null,
            "object_position": null,
            "order": null,
            "overflow": null,
            "overflow_x": null,
            "overflow_y": null,
            "padding": null,
            "right": null,
            "top": null,
            "visibility": null,
            "width": null
          }
        },
        "9d4244ca822b4762ba5261eaae34b410": {
          "model_module": "@jupyter-widgets/base",
          "model_name": "LayoutModel",
          "model_module_version": "1.2.0",
          "state": {
            "_model_module": "@jupyter-widgets/base",
            "_model_module_version": "1.2.0",
            "_model_name": "LayoutModel",
            "_view_count": null,
            "_view_module": "@jupyter-widgets/base",
            "_view_module_version": "1.2.0",
            "_view_name": "LayoutView",
            "align_content": null,
            "align_items": null,
            "align_self": null,
            "border": null,
            "bottom": null,
            "display": null,
            "flex": null,
            "flex_flow": null,
            "grid_area": null,
            "grid_auto_columns": null,
            "grid_auto_flow": null,
            "grid_auto_rows": null,
            "grid_column": null,
            "grid_gap": null,
            "grid_row": null,
            "grid_template_areas": null,
            "grid_template_columns": null,
            "grid_template_rows": null,
            "height": null,
            "justify_content": null,
            "justify_items": null,
            "left": null,
            "margin": null,
            "max_height": null,
            "max_width": null,
            "min_height": null,
            "min_width": null,
            "object_fit": null,
            "object_position": null,
            "order": null,
            "overflow": null,
            "overflow_x": null,
            "overflow_y": null,
            "padding": null,
            "right": null,
            "top": null,
            "visibility": null,
            "width": null
          }
        },
        "94542fb62ba94182842a7383d5d5b15e": {
          "model_module": "@jupyter-widgets/controls",
          "model_name": "DescriptionStyleModel",
          "model_module_version": "1.5.0",
          "state": {
            "_model_module": "@jupyter-widgets/controls",
            "_model_module_version": "1.5.0",
            "_model_name": "DescriptionStyleModel",
            "_view_count": null,
            "_view_module": "@jupyter-widgets/base",
            "_view_module_version": "1.2.0",
            "_view_name": "StyleView",
            "description_width": ""
          }
        },
        "8243dc6a06864c6eb95f9ed7b2ac5ed2": {
          "model_module": "@jupyter-widgets/base",
          "model_name": "LayoutModel",
          "model_module_version": "1.2.0",
          "state": {
            "_model_module": "@jupyter-widgets/base",
            "_model_module_version": "1.2.0",
            "_model_name": "LayoutModel",
            "_view_count": null,
            "_view_module": "@jupyter-widgets/base",
            "_view_module_version": "1.2.0",
            "_view_name": "LayoutView",
            "align_content": null,
            "align_items": null,
            "align_self": null,
            "border": null,
            "bottom": null,
            "display": null,
            "flex": null,
            "flex_flow": null,
            "grid_area": null,
            "grid_auto_columns": null,
            "grid_auto_flow": null,
            "grid_auto_rows": null,
            "grid_column": null,
            "grid_gap": null,
            "grid_row": null,
            "grid_template_areas": null,
            "grid_template_columns": null,
            "grid_template_rows": null,
            "height": null,
            "justify_content": null,
            "justify_items": null,
            "left": null,
            "margin": null,
            "max_height": null,
            "max_width": null,
            "min_height": null,
            "min_width": null,
            "object_fit": null,
            "object_position": null,
            "order": null,
            "overflow": null,
            "overflow_x": null,
            "overflow_y": null,
            "padding": null,
            "right": null,
            "top": null,
            "visibility": null,
            "width": "20px"
          }
        },
        "11719528262e46adbf9d405f0007f2c5": {
          "model_module": "@jupyter-widgets/controls",
          "model_name": "ProgressStyleModel",
          "model_module_version": "1.5.0",
          "state": {
            "_model_module": "@jupyter-widgets/controls",
            "_model_module_version": "1.5.0",
            "_model_name": "ProgressStyleModel",
            "_view_count": null,
            "_view_module": "@jupyter-widgets/base",
            "_view_module_version": "1.2.0",
            "_view_name": "StyleView",
            "bar_color": null,
            "description_width": ""
          }
        },
        "06e3939a04ac47ff8eb363e89f4721a9": {
          "model_module": "@jupyter-widgets/base",
          "model_name": "LayoutModel",
          "model_module_version": "1.2.0",
          "state": {
            "_model_module": "@jupyter-widgets/base",
            "_model_module_version": "1.2.0",
            "_model_name": "LayoutModel",
            "_view_count": null,
            "_view_module": "@jupyter-widgets/base",
            "_view_module_version": "1.2.0",
            "_view_name": "LayoutView",
            "align_content": null,
            "align_items": null,
            "align_self": null,
            "border": null,
            "bottom": null,
            "display": null,
            "flex": null,
            "flex_flow": null,
            "grid_area": null,
            "grid_auto_columns": null,
            "grid_auto_flow": null,
            "grid_auto_rows": null,
            "grid_column": null,
            "grid_gap": null,
            "grid_row": null,
            "grid_template_areas": null,
            "grid_template_columns": null,
            "grid_template_rows": null,
            "height": null,
            "justify_content": null,
            "justify_items": null,
            "left": null,
            "margin": null,
            "max_height": null,
            "max_width": null,
            "min_height": null,
            "min_width": null,
            "object_fit": null,
            "object_position": null,
            "order": null,
            "overflow": null,
            "overflow_x": null,
            "overflow_y": null,
            "padding": null,
            "right": null,
            "top": null,
            "visibility": null,
            "width": null
          }
        },
        "1d45e0cda50240339e78226c2fc6255a": {
          "model_module": "@jupyter-widgets/controls",
          "model_name": "DescriptionStyleModel",
          "model_module_version": "1.5.0",
          "state": {
            "_model_module": "@jupyter-widgets/controls",
            "_model_module_version": "1.5.0",
            "_model_name": "DescriptionStyleModel",
            "_view_count": null,
            "_view_module": "@jupyter-widgets/base",
            "_view_module_version": "1.2.0",
            "_view_name": "StyleView",
            "description_width": ""
          }
        },
        "d9e2d198940344d2ace013235655b1b6": {
          "model_module": "@jupyter-widgets/controls",
          "model_name": "HBoxModel",
          "model_module_version": "1.5.0",
          "state": {
            "_dom_classes": [],
            "_model_module": "@jupyter-widgets/controls",
            "_model_module_version": "1.5.0",
            "_model_name": "HBoxModel",
            "_view_count": null,
            "_view_module": "@jupyter-widgets/controls",
            "_view_module_version": "1.5.0",
            "_view_name": "HBoxView",
            "box_style": "",
            "children": [
              "IPY_MODEL_7801782066384d1e8c0a0e40178925ca",
              "IPY_MODEL_e9caaa38d35947d789c1f643e960a8cf",
              "IPY_MODEL_3aa839e6898b43729b22fa0dfe77bd0d"
            ],
            "layout": "IPY_MODEL_a798b37794ee47edb47c90dce75c3dc1"
          }
        },
        "7801782066384d1e8c0a0e40178925ca": {
          "model_module": "@jupyter-widgets/controls",
          "model_name": "HTMLModel",
          "model_module_version": "1.5.0",
          "state": {
            "_dom_classes": [],
            "_model_module": "@jupyter-widgets/controls",
            "_model_module_version": "1.5.0",
            "_model_name": "HTMLModel",
            "_view_count": null,
            "_view_module": "@jupyter-widgets/controls",
            "_view_module_version": "1.5.0",
            "_view_name": "HTMLView",
            "description": "",
            "description_tooltip": null,
            "layout": "IPY_MODEL_cf01c9132ac24971be71dc0c18cf024e",
            "placeholder": "​",
            "style": "IPY_MODEL_c460388b5e094eb4806aa93863ec98b2",
            "value": "Extraction completed...: 100%"
          }
        },
        "e9caaa38d35947d789c1f643e960a8cf": {
          "model_module": "@jupyter-widgets/controls",
          "model_name": "FloatProgressModel",
          "model_module_version": "1.5.0",
          "state": {
            "_dom_classes": [],
            "_model_module": "@jupyter-widgets/controls",
            "_model_module_version": "1.5.0",
            "_model_name": "FloatProgressModel",
            "_view_count": null,
            "_view_module": "@jupyter-widgets/controls",
            "_view_module_version": "1.5.0",
            "_view_name": "ProgressView",
            "bar_style": "success",
            "description": "",
            "description_tooltip": null,
            "layout": "IPY_MODEL_fd170bb18d304afaacb942b00aa2de90",
            "max": 1,
            "min": 0,
            "orientation": "horizontal",
            "style": "IPY_MODEL_5b04119a117944afb34424504fe96b5a",
            "value": 1
          }
        },
        "3aa839e6898b43729b22fa0dfe77bd0d": {
          "model_module": "@jupyter-widgets/controls",
          "model_name": "HTMLModel",
          "model_module_version": "1.5.0",
          "state": {
            "_dom_classes": [],
            "_model_module": "@jupyter-widgets/controls",
            "_model_module_version": "1.5.0",
            "_model_name": "HTMLModel",
            "_view_count": null,
            "_view_module": "@jupyter-widgets/controls",
            "_view_module_version": "1.5.0",
            "_view_name": "HTMLView",
            "description": "",
            "description_tooltip": null,
            "layout": "IPY_MODEL_cd26af6253a7494cb82b78e5ae781095",
            "placeholder": "​",
            "style": "IPY_MODEL_ddfaa4b3da10424e9f818b7f1fd2b81d",
            "value": " 8/8 [00:04&lt;00:00,  4.72s/ file]"
          }
        },
        "a798b37794ee47edb47c90dce75c3dc1": {
          "model_module": "@jupyter-widgets/base",
          "model_name": "LayoutModel",
          "model_module_version": "1.2.0",
          "state": {
            "_model_module": "@jupyter-widgets/base",
            "_model_module_version": "1.2.0",
            "_model_name": "LayoutModel",
            "_view_count": null,
            "_view_module": "@jupyter-widgets/base",
            "_view_module_version": "1.2.0",
            "_view_name": "LayoutView",
            "align_content": null,
            "align_items": null,
            "align_self": null,
            "border": null,
            "bottom": null,
            "display": null,
            "flex": null,
            "flex_flow": null,
            "grid_area": null,
            "grid_auto_columns": null,
            "grid_auto_flow": null,
            "grid_auto_rows": null,
            "grid_column": null,
            "grid_gap": null,
            "grid_row": null,
            "grid_template_areas": null,
            "grid_template_columns": null,
            "grid_template_rows": null,
            "height": null,
            "justify_content": null,
            "justify_items": null,
            "left": null,
            "margin": null,
            "max_height": null,
            "max_width": null,
            "min_height": null,
            "min_width": null,
            "object_fit": null,
            "object_position": null,
            "order": null,
            "overflow": null,
            "overflow_x": null,
            "overflow_y": null,
            "padding": null,
            "right": null,
            "top": null,
            "visibility": null,
            "width": null
          }
        },
        "cf01c9132ac24971be71dc0c18cf024e": {
          "model_module": "@jupyter-widgets/base",
          "model_name": "LayoutModel",
          "model_module_version": "1.2.0",
          "state": {
            "_model_module": "@jupyter-widgets/base",
            "_model_module_version": "1.2.0",
            "_model_name": "LayoutModel",
            "_view_count": null,
            "_view_module": "@jupyter-widgets/base",
            "_view_module_version": "1.2.0",
            "_view_name": "LayoutView",
            "align_content": null,
            "align_items": null,
            "align_self": null,
            "border": null,
            "bottom": null,
            "display": null,
            "flex": null,
            "flex_flow": null,
            "grid_area": null,
            "grid_auto_columns": null,
            "grid_auto_flow": null,
            "grid_auto_rows": null,
            "grid_column": null,
            "grid_gap": null,
            "grid_row": null,
            "grid_template_areas": null,
            "grid_template_columns": null,
            "grid_template_rows": null,
            "height": null,
            "justify_content": null,
            "justify_items": null,
            "left": null,
            "margin": null,
            "max_height": null,
            "max_width": null,
            "min_height": null,
            "min_width": null,
            "object_fit": null,
            "object_position": null,
            "order": null,
            "overflow": null,
            "overflow_x": null,
            "overflow_y": null,
            "padding": null,
            "right": null,
            "top": null,
            "visibility": null,
            "width": null
          }
        },
        "c460388b5e094eb4806aa93863ec98b2": {
          "model_module": "@jupyter-widgets/controls",
          "model_name": "DescriptionStyleModel",
          "model_module_version": "1.5.0",
          "state": {
            "_model_module": "@jupyter-widgets/controls",
            "_model_module_version": "1.5.0",
            "_model_name": "DescriptionStyleModel",
            "_view_count": null,
            "_view_module": "@jupyter-widgets/base",
            "_view_module_version": "1.2.0",
            "_view_name": "StyleView",
            "description_width": ""
          }
        },
        "fd170bb18d304afaacb942b00aa2de90": {
          "model_module": "@jupyter-widgets/base",
          "model_name": "LayoutModel",
          "model_module_version": "1.2.0",
          "state": {
            "_model_module": "@jupyter-widgets/base",
            "_model_module_version": "1.2.0",
            "_model_name": "LayoutModel",
            "_view_count": null,
            "_view_module": "@jupyter-widgets/base",
            "_view_module_version": "1.2.0",
            "_view_name": "LayoutView",
            "align_content": null,
            "align_items": null,
            "align_self": null,
            "border": null,
            "bottom": null,
            "display": null,
            "flex": null,
            "flex_flow": null,
            "grid_area": null,
            "grid_auto_columns": null,
            "grid_auto_flow": null,
            "grid_auto_rows": null,
            "grid_column": null,
            "grid_gap": null,
            "grid_row": null,
            "grid_template_areas": null,
            "grid_template_columns": null,
            "grid_template_rows": null,
            "height": null,
            "justify_content": null,
            "justify_items": null,
            "left": null,
            "margin": null,
            "max_height": null,
            "max_width": null,
            "min_height": null,
            "min_width": null,
            "object_fit": null,
            "object_position": null,
            "order": null,
            "overflow": null,
            "overflow_x": null,
            "overflow_y": null,
            "padding": null,
            "right": null,
            "top": null,
            "visibility": null,
            "width": "20px"
          }
        },
        "5b04119a117944afb34424504fe96b5a": {
          "model_module": "@jupyter-widgets/controls",
          "model_name": "ProgressStyleModel",
          "model_module_version": "1.5.0",
          "state": {
            "_model_module": "@jupyter-widgets/controls",
            "_model_module_version": "1.5.0",
            "_model_name": "ProgressStyleModel",
            "_view_count": null,
            "_view_module": "@jupyter-widgets/base",
            "_view_module_version": "1.2.0",
            "_view_name": "StyleView",
            "bar_color": null,
            "description_width": ""
          }
        },
        "cd26af6253a7494cb82b78e5ae781095": {
          "model_module": "@jupyter-widgets/base",
          "model_name": "LayoutModel",
          "model_module_version": "1.2.0",
          "state": {
            "_model_module": "@jupyter-widgets/base",
            "_model_module_version": "1.2.0",
            "_model_name": "LayoutModel",
            "_view_count": null,
            "_view_module": "@jupyter-widgets/base",
            "_view_module_version": "1.2.0",
            "_view_name": "LayoutView",
            "align_content": null,
            "align_items": null,
            "align_self": null,
            "border": null,
            "bottom": null,
            "display": null,
            "flex": null,
            "flex_flow": null,
            "grid_area": null,
            "grid_auto_columns": null,
            "grid_auto_flow": null,
            "grid_auto_rows": null,
            "grid_column": null,
            "grid_gap": null,
            "grid_row": null,
            "grid_template_areas": null,
            "grid_template_columns": null,
            "grid_template_rows": null,
            "height": null,
            "justify_content": null,
            "justify_items": null,
            "left": null,
            "margin": null,
            "max_height": null,
            "max_width": null,
            "min_height": null,
            "min_width": null,
            "object_fit": null,
            "object_position": null,
            "order": null,
            "overflow": null,
            "overflow_x": null,
            "overflow_y": null,
            "padding": null,
            "right": null,
            "top": null,
            "visibility": null,
            "width": null
          }
        },
        "ddfaa4b3da10424e9f818b7f1fd2b81d": {
          "model_module": "@jupyter-widgets/controls",
          "model_name": "DescriptionStyleModel",
          "model_module_version": "1.5.0",
          "state": {
            "_model_module": "@jupyter-widgets/controls",
            "_model_module_version": "1.5.0",
            "_model_name": "DescriptionStyleModel",
            "_view_count": null,
            "_view_module": "@jupyter-widgets/base",
            "_view_module_version": "1.2.0",
            "_view_name": "StyleView",
            "description_width": ""
          }
        },
        "0ac78ab7830047b3ad0202ecdecd32d7": {
          "model_module": "@jupyter-widgets/controls",
          "model_name": "HBoxModel",
          "model_module_version": "1.5.0",
          "state": {
            "_dom_classes": [],
            "_model_module": "@jupyter-widgets/controls",
            "_model_module_version": "1.5.0",
            "_model_name": "HBoxModel",
            "_view_count": null,
            "_view_module": "@jupyter-widgets/controls",
            "_view_module_version": "1.5.0",
            "_view_name": "HBoxView",
            "box_style": "",
            "children": [
              "IPY_MODEL_502b55ca7b4b47fda74ca122be6e10cf",
              "IPY_MODEL_418ed74d0ff545ee96af81ad2f3f44df",
              "IPY_MODEL_90cf29a2b36e4c51bbff95b35e27afae"
            ],
            "layout": "IPY_MODEL_2b813a93daa5436dae55840fa513a0c8"
          }
        },
        "502b55ca7b4b47fda74ca122be6e10cf": {
          "model_module": "@jupyter-widgets/controls",
          "model_name": "HTMLModel",
          "model_module_version": "1.5.0",
          "state": {
            "_dom_classes": [],
            "_model_module": "@jupyter-widgets/controls",
            "_model_module_version": "1.5.0",
            "_model_name": "HTMLModel",
            "_view_count": null,
            "_view_module": "@jupyter-widgets/controls",
            "_view_module_version": "1.5.0",
            "_view_name": "HTMLView",
            "description": "",
            "description_tooltip": null,
            "layout": "IPY_MODEL_ca67063eae084e69a33f897501d0bc02",
            "placeholder": "​",
            "style": "IPY_MODEL_8f8cfbbd63cb41cc9adc849534c00876",
            "value": "Generating splits...: 100%"
          }
        },
        "418ed74d0ff545ee96af81ad2f3f44df": {
          "model_module": "@jupyter-widgets/controls",
          "model_name": "FloatProgressModel",
          "model_module_version": "1.5.0",
          "state": {
            "_dom_classes": [],
            "_model_module": "@jupyter-widgets/controls",
            "_model_module_version": "1.5.0",
            "_model_name": "FloatProgressModel",
            "_view_count": null,
            "_view_module": "@jupyter-widgets/controls",
            "_view_module_version": "1.5.0",
            "_view_name": "ProgressView",
            "bar_style": "",
            "description": "",
            "description_tooltip": null,
            "layout": "IPY_MODEL_8c14e26b88534720804cfc261b9fc533",
            "max": 2,
            "min": 0,
            "orientation": "horizontal",
            "style": "IPY_MODEL_b7268e62bd5b40ffa60a340975391f1d",
            "value": 2
          }
        },
        "90cf29a2b36e4c51bbff95b35e27afae": {
          "model_module": "@jupyter-widgets/controls",
          "model_name": "HTMLModel",
          "model_module_version": "1.5.0",
          "state": {
            "_dom_classes": [],
            "_model_module": "@jupyter-widgets/controls",
            "_model_module_version": "1.5.0",
            "_model_name": "HTMLModel",
            "_view_count": null,
            "_view_module": "@jupyter-widgets/controls",
            "_view_module_version": "1.5.0",
            "_view_name": "HTMLView",
            "description": "",
            "description_tooltip": null,
            "layout": "IPY_MODEL_4926914538f34ffbb8cebe4f53662a2d",
            "placeholder": "​",
            "style": "IPY_MODEL_afa4defe56e44fc297084ac6c7160c36",
            "value": " 2/2 [00:56&lt;00:00, 24.97s/ splits]"
          }
        },
        "2b813a93daa5436dae55840fa513a0c8": {
          "model_module": "@jupyter-widgets/base",
          "model_name": "LayoutModel",
          "model_module_version": "1.2.0",
          "state": {
            "_model_module": "@jupyter-widgets/base",
            "_model_module_version": "1.2.0",
            "_model_name": "LayoutModel",
            "_view_count": null,
            "_view_module": "@jupyter-widgets/base",
            "_view_module_version": "1.2.0",
            "_view_name": "LayoutView",
            "align_content": null,
            "align_items": null,
            "align_self": null,
            "border": null,
            "bottom": null,
            "display": null,
            "flex": null,
            "flex_flow": null,
            "grid_area": null,
            "grid_auto_columns": null,
            "grid_auto_flow": null,
            "grid_auto_rows": null,
            "grid_column": null,
            "grid_gap": null,
            "grid_row": null,
            "grid_template_areas": null,
            "grid_template_columns": null,
            "grid_template_rows": null,
            "height": null,
            "justify_content": null,
            "justify_items": null,
            "left": null,
            "margin": null,
            "max_height": null,
            "max_width": null,
            "min_height": null,
            "min_width": null,
            "object_fit": null,
            "object_position": null,
            "order": null,
            "overflow": null,
            "overflow_x": null,
            "overflow_y": null,
            "padding": null,
            "right": null,
            "top": null,
            "visibility": "hidden",
            "width": null
          }
        },
        "ca67063eae084e69a33f897501d0bc02": {
          "model_module": "@jupyter-widgets/base",
          "model_name": "LayoutModel",
          "model_module_version": "1.2.0",
          "state": {
            "_model_module": "@jupyter-widgets/base",
            "_model_module_version": "1.2.0",
            "_model_name": "LayoutModel",
            "_view_count": null,
            "_view_module": "@jupyter-widgets/base",
            "_view_module_version": "1.2.0",
            "_view_name": "LayoutView",
            "align_content": null,
            "align_items": null,
            "align_self": null,
            "border": null,
            "bottom": null,
            "display": null,
            "flex": null,
            "flex_flow": null,
            "grid_area": null,
            "grid_auto_columns": null,
            "grid_auto_flow": null,
            "grid_auto_rows": null,
            "grid_column": null,
            "grid_gap": null,
            "grid_row": null,
            "grid_template_areas": null,
            "grid_template_columns": null,
            "grid_template_rows": null,
            "height": null,
            "justify_content": null,
            "justify_items": null,
            "left": null,
            "margin": null,
            "max_height": null,
            "max_width": null,
            "min_height": null,
            "min_width": null,
            "object_fit": null,
            "object_position": null,
            "order": null,
            "overflow": null,
            "overflow_x": null,
            "overflow_y": null,
            "padding": null,
            "right": null,
            "top": null,
            "visibility": null,
            "width": null
          }
        },
        "8f8cfbbd63cb41cc9adc849534c00876": {
          "model_module": "@jupyter-widgets/controls",
          "model_name": "DescriptionStyleModel",
          "model_module_version": "1.5.0",
          "state": {
            "_model_module": "@jupyter-widgets/controls",
            "_model_module_version": "1.5.0",
            "_model_name": "DescriptionStyleModel",
            "_view_count": null,
            "_view_module": "@jupyter-widgets/base",
            "_view_module_version": "1.2.0",
            "_view_name": "StyleView",
            "description_width": ""
          }
        },
        "8c14e26b88534720804cfc261b9fc533": {
          "model_module": "@jupyter-widgets/base",
          "model_name": "LayoutModel",
          "model_module_version": "1.2.0",
          "state": {
            "_model_module": "@jupyter-widgets/base",
            "_model_module_version": "1.2.0",
            "_model_name": "LayoutModel",
            "_view_count": null,
            "_view_module": "@jupyter-widgets/base",
            "_view_module_version": "1.2.0",
            "_view_name": "LayoutView",
            "align_content": null,
            "align_items": null,
            "align_self": null,
            "border": null,
            "bottom": null,
            "display": null,
            "flex": null,
            "flex_flow": null,
            "grid_area": null,
            "grid_auto_columns": null,
            "grid_auto_flow": null,
            "grid_auto_rows": null,
            "grid_column": null,
            "grid_gap": null,
            "grid_row": null,
            "grid_template_areas": null,
            "grid_template_columns": null,
            "grid_template_rows": null,
            "height": null,
            "justify_content": null,
            "justify_items": null,
            "left": null,
            "margin": null,
            "max_height": null,
            "max_width": null,
            "min_height": null,
            "min_width": null,
            "object_fit": null,
            "object_position": null,
            "order": null,
            "overflow": null,
            "overflow_x": null,
            "overflow_y": null,
            "padding": null,
            "right": null,
            "top": null,
            "visibility": null,
            "width": null
          }
        },
        "b7268e62bd5b40ffa60a340975391f1d": {
          "model_module": "@jupyter-widgets/controls",
          "model_name": "ProgressStyleModel",
          "model_module_version": "1.5.0",
          "state": {
            "_model_module": "@jupyter-widgets/controls",
            "_model_module_version": "1.5.0",
            "_model_name": "ProgressStyleModel",
            "_view_count": null,
            "_view_module": "@jupyter-widgets/base",
            "_view_module_version": "1.2.0",
            "_view_name": "StyleView",
            "bar_color": null,
            "description_width": ""
          }
        },
        "4926914538f34ffbb8cebe4f53662a2d": {
          "model_module": "@jupyter-widgets/base",
          "model_name": "LayoutModel",
          "model_module_version": "1.2.0",
          "state": {
            "_model_module": "@jupyter-widgets/base",
            "_model_module_version": "1.2.0",
            "_model_name": "LayoutModel",
            "_view_count": null,
            "_view_module": "@jupyter-widgets/base",
            "_view_module_version": "1.2.0",
            "_view_name": "LayoutView",
            "align_content": null,
            "align_items": null,
            "align_self": null,
            "border": null,
            "bottom": null,
            "display": null,
            "flex": null,
            "flex_flow": null,
            "grid_area": null,
            "grid_auto_columns": null,
            "grid_auto_flow": null,
            "grid_auto_rows": null,
            "grid_column": null,
            "grid_gap": null,
            "grid_row": null,
            "grid_template_areas": null,
            "grid_template_columns": null,
            "grid_template_rows": null,
            "height": null,
            "justify_content": null,
            "justify_items": null,
            "left": null,
            "margin": null,
            "max_height": null,
            "max_width": null,
            "min_height": null,
            "min_width": null,
            "object_fit": null,
            "object_position": null,
            "order": null,
            "overflow": null,
            "overflow_x": null,
            "overflow_y": null,
            "padding": null,
            "right": null,
            "top": null,
            "visibility": null,
            "width": null
          }
        },
        "afa4defe56e44fc297084ac6c7160c36": {
          "model_module": "@jupyter-widgets/controls",
          "model_name": "DescriptionStyleModel",
          "model_module_version": "1.5.0",
          "state": {
            "_model_module": "@jupyter-widgets/controls",
            "_model_module_version": "1.5.0",
            "_model_name": "DescriptionStyleModel",
            "_view_count": null,
            "_view_module": "@jupyter-widgets/base",
            "_view_module_version": "1.2.0",
            "_view_name": "StyleView",
            "description_width": ""
          }
        },
        "092339e2d00240c89494e4848db29b5f": {
          "model_module": "@jupyter-widgets/controls",
          "model_name": "HBoxModel",
          "model_module_version": "1.5.0",
          "state": {
            "_dom_classes": [],
            "_model_module": "@jupyter-widgets/controls",
            "_model_module_version": "1.5.0",
            "_model_name": "HBoxModel",
            "_view_count": null,
            "_view_module": "@jupyter-widgets/controls",
            "_view_module_version": "1.5.0",
            "_view_name": "HBoxView",
            "box_style": "",
            "children": [
              "IPY_MODEL_98abd35b0ca1408aa5a356d7811e4296",
              "IPY_MODEL_ce5e4242b1564b96816df85087264ee5",
              "IPY_MODEL_1352d30880a74f5a88953cbfb543fb9f"
            ],
            "layout": "IPY_MODEL_ec8197c837944733838ed5a61d6a5cc2"
          }
        },
        "98abd35b0ca1408aa5a356d7811e4296": {
          "model_module": "@jupyter-widgets/controls",
          "model_name": "HTMLModel",
          "model_module_version": "1.5.0",
          "state": {
            "_dom_classes": [],
            "_model_module": "@jupyter-widgets/controls",
            "_model_module_version": "1.5.0",
            "_model_name": "HTMLModel",
            "_view_count": null,
            "_view_module": "@jupyter-widgets/controls",
            "_view_module_version": "1.5.0",
            "_view_name": "HTMLView",
            "description": "",
            "description_tooltip": null,
            "layout": "IPY_MODEL_38a90e11761b452291f94f75d286ba9f",
            "placeholder": "​",
            "style": "IPY_MODEL_683cd73d5f364f45bed45e74205deced",
            "value": "Generating train examples...:  99%"
          }
        },
        "ce5e4242b1564b96816df85087264ee5": {
          "model_module": "@jupyter-widgets/controls",
          "model_name": "FloatProgressModel",
          "model_module_version": "1.5.0",
          "state": {
            "_dom_classes": [],
            "_model_module": "@jupyter-widgets/controls",
            "_model_module_version": "1.5.0",
            "_model_name": "FloatProgressModel",
            "_view_count": null,
            "_view_module": "@jupyter-widgets/controls",
            "_view_module_version": "1.5.0",
            "_view_name": "ProgressView",
            "bar_style": "",
            "description": "",
            "description_tooltip": null,
            "layout": "IPY_MODEL_3fa13f1e15fa425ca4b924a2fe4d7665",
            "max": 50000,
            "min": 0,
            "orientation": "horizontal",
            "style": "IPY_MODEL_518bea2f0004429ab247b90ce3068344",
            "value": 50000
          }
        },
        "1352d30880a74f5a88953cbfb543fb9f": {
          "model_module": "@jupyter-widgets/controls",
          "model_name": "HTMLModel",
          "model_module_version": "1.5.0",
          "state": {
            "_dom_classes": [],
            "_model_module": "@jupyter-widgets/controls",
            "_model_module_version": "1.5.0",
            "_model_name": "HTMLModel",
            "_view_count": null,
            "_view_module": "@jupyter-widgets/controls",
            "_view_module_version": "1.5.0",
            "_view_name": "HTMLView",
            "description": "",
            "description_tooltip": null,
            "layout": "IPY_MODEL_8f1ba64223f04948b29eec00b2957202",
            "placeholder": "​",
            "style": "IPY_MODEL_04a6f5fc8abe432ba1e97186faf20fb0",
            "value": " 49299/50000 [00:46&lt;00:00, 1040.21 examples/s]"
          }
        },
        "ec8197c837944733838ed5a61d6a5cc2": {
          "model_module": "@jupyter-widgets/base",
          "model_name": "LayoutModel",
          "model_module_version": "1.2.0",
          "state": {
            "_model_module": "@jupyter-widgets/base",
            "_model_module_version": "1.2.0",
            "_model_name": "LayoutModel",
            "_view_count": null,
            "_view_module": "@jupyter-widgets/base",
            "_view_module_version": "1.2.0",
            "_view_name": "LayoutView",
            "align_content": null,
            "align_items": null,
            "align_self": null,
            "border": null,
            "bottom": null,
            "display": null,
            "flex": null,
            "flex_flow": null,
            "grid_area": null,
            "grid_auto_columns": null,
            "grid_auto_flow": null,
            "grid_auto_rows": null,
            "grid_column": null,
            "grid_gap": null,
            "grid_row": null,
            "grid_template_areas": null,
            "grid_template_columns": null,
            "grid_template_rows": null,
            "height": null,
            "justify_content": null,
            "justify_items": null,
            "left": null,
            "margin": null,
            "max_height": null,
            "max_width": null,
            "min_height": null,
            "min_width": null,
            "object_fit": null,
            "object_position": null,
            "order": null,
            "overflow": null,
            "overflow_x": null,
            "overflow_y": null,
            "padding": null,
            "right": null,
            "top": null,
            "visibility": "hidden",
            "width": null
          }
        },
        "38a90e11761b452291f94f75d286ba9f": {
          "model_module": "@jupyter-widgets/base",
          "model_name": "LayoutModel",
          "model_module_version": "1.2.0",
          "state": {
            "_model_module": "@jupyter-widgets/base",
            "_model_module_version": "1.2.0",
            "_model_name": "LayoutModel",
            "_view_count": null,
            "_view_module": "@jupyter-widgets/base",
            "_view_module_version": "1.2.0",
            "_view_name": "LayoutView",
            "align_content": null,
            "align_items": null,
            "align_self": null,
            "border": null,
            "bottom": null,
            "display": null,
            "flex": null,
            "flex_flow": null,
            "grid_area": null,
            "grid_auto_columns": null,
            "grid_auto_flow": null,
            "grid_auto_rows": null,
            "grid_column": null,
            "grid_gap": null,
            "grid_row": null,
            "grid_template_areas": null,
            "grid_template_columns": null,
            "grid_template_rows": null,
            "height": null,
            "justify_content": null,
            "justify_items": null,
            "left": null,
            "margin": null,
            "max_height": null,
            "max_width": null,
            "min_height": null,
            "min_width": null,
            "object_fit": null,
            "object_position": null,
            "order": null,
            "overflow": null,
            "overflow_x": null,
            "overflow_y": null,
            "padding": null,
            "right": null,
            "top": null,
            "visibility": null,
            "width": null
          }
        },
        "683cd73d5f364f45bed45e74205deced": {
          "model_module": "@jupyter-widgets/controls",
          "model_name": "DescriptionStyleModel",
          "model_module_version": "1.5.0",
          "state": {
            "_model_module": "@jupyter-widgets/controls",
            "_model_module_version": "1.5.0",
            "_model_name": "DescriptionStyleModel",
            "_view_count": null,
            "_view_module": "@jupyter-widgets/base",
            "_view_module_version": "1.2.0",
            "_view_name": "StyleView",
            "description_width": ""
          }
        },
        "3fa13f1e15fa425ca4b924a2fe4d7665": {
          "model_module": "@jupyter-widgets/base",
          "model_name": "LayoutModel",
          "model_module_version": "1.2.0",
          "state": {
            "_model_module": "@jupyter-widgets/base",
            "_model_module_version": "1.2.0",
            "_model_name": "LayoutModel",
            "_view_count": null,
            "_view_module": "@jupyter-widgets/base",
            "_view_module_version": "1.2.0",
            "_view_name": "LayoutView",
            "align_content": null,
            "align_items": null,
            "align_self": null,
            "border": null,
            "bottom": null,
            "display": null,
            "flex": null,
            "flex_flow": null,
            "grid_area": null,
            "grid_auto_columns": null,
            "grid_auto_flow": null,
            "grid_auto_rows": null,
            "grid_column": null,
            "grid_gap": null,
            "grid_row": null,
            "grid_template_areas": null,
            "grid_template_columns": null,
            "grid_template_rows": null,
            "height": null,
            "justify_content": null,
            "justify_items": null,
            "left": null,
            "margin": null,
            "max_height": null,
            "max_width": null,
            "min_height": null,
            "min_width": null,
            "object_fit": null,
            "object_position": null,
            "order": null,
            "overflow": null,
            "overflow_x": null,
            "overflow_y": null,
            "padding": null,
            "right": null,
            "top": null,
            "visibility": null,
            "width": null
          }
        },
        "518bea2f0004429ab247b90ce3068344": {
          "model_module": "@jupyter-widgets/controls",
          "model_name": "ProgressStyleModel",
          "model_module_version": "1.5.0",
          "state": {
            "_model_module": "@jupyter-widgets/controls",
            "_model_module_version": "1.5.0",
            "_model_name": "ProgressStyleModel",
            "_view_count": null,
            "_view_module": "@jupyter-widgets/base",
            "_view_module_version": "1.2.0",
            "_view_name": "StyleView",
            "bar_color": null,
            "description_width": ""
          }
        },
        "8f1ba64223f04948b29eec00b2957202": {
          "model_module": "@jupyter-widgets/base",
          "model_name": "LayoutModel",
          "model_module_version": "1.2.0",
          "state": {
            "_model_module": "@jupyter-widgets/base",
            "_model_module_version": "1.2.0",
            "_model_name": "LayoutModel",
            "_view_count": null,
            "_view_module": "@jupyter-widgets/base",
            "_view_module_version": "1.2.0",
            "_view_name": "LayoutView",
            "align_content": null,
            "align_items": null,
            "align_self": null,
            "border": null,
            "bottom": null,
            "display": null,
            "flex": null,
            "flex_flow": null,
            "grid_area": null,
            "grid_auto_columns": null,
            "grid_auto_flow": null,
            "grid_auto_rows": null,
            "grid_column": null,
            "grid_gap": null,
            "grid_row": null,
            "grid_template_areas": null,
            "grid_template_columns": null,
            "grid_template_rows": null,
            "height": null,
            "justify_content": null,
            "justify_items": null,
            "left": null,
            "margin": null,
            "max_height": null,
            "max_width": null,
            "min_height": null,
            "min_width": null,
            "object_fit": null,
            "object_position": null,
            "order": null,
            "overflow": null,
            "overflow_x": null,
            "overflow_y": null,
            "padding": null,
            "right": null,
            "top": null,
            "visibility": null,
            "width": null
          }
        },
        "04a6f5fc8abe432ba1e97186faf20fb0": {
          "model_module": "@jupyter-widgets/controls",
          "model_name": "DescriptionStyleModel",
          "model_module_version": "1.5.0",
          "state": {
            "_model_module": "@jupyter-widgets/controls",
            "_model_module_version": "1.5.0",
            "_model_name": "DescriptionStyleModel",
            "_view_count": null,
            "_view_module": "@jupyter-widgets/base",
            "_view_module_version": "1.2.0",
            "_view_name": "StyleView",
            "description_width": ""
          }
        },
        "4c1ba3dd707e49c3a58ab80934d0c576": {
          "model_module": "@jupyter-widgets/controls",
          "model_name": "HBoxModel",
          "model_module_version": "1.5.0",
          "state": {
            "_dom_classes": [],
            "_model_module": "@jupyter-widgets/controls",
            "_model_module_version": "1.5.0",
            "_model_name": "HBoxModel",
            "_view_count": null,
            "_view_module": "@jupyter-widgets/controls",
            "_view_module_version": "1.5.0",
            "_view_name": "HBoxView",
            "box_style": "",
            "children": [
              "IPY_MODEL_37a1a857a51843a7a1117acdf37f1987",
              "IPY_MODEL_219df42069b9439a980473eef8a341c7",
              "IPY_MODEL_c59a3763c6e4418a96e82dc0c80d7ee6"
            ],
            "layout": "IPY_MODEL_f5c3ddae3d3c4db48db9ecb412763af6"
          }
        },
        "37a1a857a51843a7a1117acdf37f1987": {
          "model_module": "@jupyter-widgets/controls",
          "model_name": "HTMLModel",
          "model_module_version": "1.5.0",
          "state": {
            "_dom_classes": [],
            "_model_module": "@jupyter-widgets/controls",
            "_model_module_version": "1.5.0",
            "_model_name": "HTMLModel",
            "_view_count": null,
            "_view_module": "@jupyter-widgets/controls",
            "_view_module_version": "1.5.0",
            "_view_name": "HTMLView",
            "description": "",
            "description_tooltip": null,
            "layout": "IPY_MODEL_0166cd62e3ae449883a113c8fa215af7",
            "placeholder": "​",
            "style": "IPY_MODEL_142b65732b4f408496cc1f468ad21595",
            "value": "Shuffling /root/tensorflow_datasets/cifar10/3.0.2.incompleteX1ILUM/cifar10-train.tfrecord*...:  96%"
          }
        },
        "219df42069b9439a980473eef8a341c7": {
          "model_module": "@jupyter-widgets/controls",
          "model_name": "FloatProgressModel",
          "model_module_version": "1.5.0",
          "state": {
            "_dom_classes": [],
            "_model_module": "@jupyter-widgets/controls",
            "_model_module_version": "1.5.0",
            "_model_name": "FloatProgressModel",
            "_view_count": null,
            "_view_module": "@jupyter-widgets/controls",
            "_view_module_version": "1.5.0",
            "_view_name": "ProgressView",
            "bar_style": "",
            "description": "",
            "description_tooltip": null,
            "layout": "IPY_MODEL_8c7a26f253084398a86f744d9d564eab",
            "max": 50000,
            "min": 0,
            "orientation": "horizontal",
            "style": "IPY_MODEL_3e3b02ea5426480f80e16ad215e0a0f3",
            "value": 50000
          }
        },
        "c59a3763c6e4418a96e82dc0c80d7ee6": {
          "model_module": "@jupyter-widgets/controls",
          "model_name": "HTMLModel",
          "model_module_version": "1.5.0",
          "state": {
            "_dom_classes": [],
            "_model_module": "@jupyter-widgets/controls",
            "_model_module_version": "1.5.0",
            "_model_name": "HTMLModel",
            "_view_count": null,
            "_view_module": "@jupyter-widgets/controls",
            "_view_module_version": "1.5.0",
            "_view_name": "HTMLView",
            "description": "",
            "description_tooltip": null,
            "layout": "IPY_MODEL_67d1b7ac6e5c48448ce698b2c04f563b",
            "placeholder": "​",
            "style": "IPY_MODEL_680e42a8ccb34eaab1fca66c08ff3d91",
            "value": " 48169/50000 [00:00&lt;00:00, 171830.91 examples/s]"
          }
        },
        "f5c3ddae3d3c4db48db9ecb412763af6": {
          "model_module": "@jupyter-widgets/base",
          "model_name": "LayoutModel",
          "model_module_version": "1.2.0",
          "state": {
            "_model_module": "@jupyter-widgets/base",
            "_model_module_version": "1.2.0",
            "_model_name": "LayoutModel",
            "_view_count": null,
            "_view_module": "@jupyter-widgets/base",
            "_view_module_version": "1.2.0",
            "_view_name": "LayoutView",
            "align_content": null,
            "align_items": null,
            "align_self": null,
            "border": null,
            "bottom": null,
            "display": null,
            "flex": null,
            "flex_flow": null,
            "grid_area": null,
            "grid_auto_columns": null,
            "grid_auto_flow": null,
            "grid_auto_rows": null,
            "grid_column": null,
            "grid_gap": null,
            "grid_row": null,
            "grid_template_areas": null,
            "grid_template_columns": null,
            "grid_template_rows": null,
            "height": null,
            "justify_content": null,
            "justify_items": null,
            "left": null,
            "margin": null,
            "max_height": null,
            "max_width": null,
            "min_height": null,
            "min_width": null,
            "object_fit": null,
            "object_position": null,
            "order": null,
            "overflow": null,
            "overflow_x": null,
            "overflow_y": null,
            "padding": null,
            "right": null,
            "top": null,
            "visibility": "hidden",
            "width": null
          }
        },
        "0166cd62e3ae449883a113c8fa215af7": {
          "model_module": "@jupyter-widgets/base",
          "model_name": "LayoutModel",
          "model_module_version": "1.2.0",
          "state": {
            "_model_module": "@jupyter-widgets/base",
            "_model_module_version": "1.2.0",
            "_model_name": "LayoutModel",
            "_view_count": null,
            "_view_module": "@jupyter-widgets/base",
            "_view_module_version": "1.2.0",
            "_view_name": "LayoutView",
            "align_content": null,
            "align_items": null,
            "align_self": null,
            "border": null,
            "bottom": null,
            "display": null,
            "flex": null,
            "flex_flow": null,
            "grid_area": null,
            "grid_auto_columns": null,
            "grid_auto_flow": null,
            "grid_auto_rows": null,
            "grid_column": null,
            "grid_gap": null,
            "grid_row": null,
            "grid_template_areas": null,
            "grid_template_columns": null,
            "grid_template_rows": null,
            "height": null,
            "justify_content": null,
            "justify_items": null,
            "left": null,
            "margin": null,
            "max_height": null,
            "max_width": null,
            "min_height": null,
            "min_width": null,
            "object_fit": null,
            "object_position": null,
            "order": null,
            "overflow": null,
            "overflow_x": null,
            "overflow_y": null,
            "padding": null,
            "right": null,
            "top": null,
            "visibility": null,
            "width": null
          }
        },
        "142b65732b4f408496cc1f468ad21595": {
          "model_module": "@jupyter-widgets/controls",
          "model_name": "DescriptionStyleModel",
          "model_module_version": "1.5.0",
          "state": {
            "_model_module": "@jupyter-widgets/controls",
            "_model_module_version": "1.5.0",
            "_model_name": "DescriptionStyleModel",
            "_view_count": null,
            "_view_module": "@jupyter-widgets/base",
            "_view_module_version": "1.2.0",
            "_view_name": "StyleView",
            "description_width": ""
          }
        },
        "8c7a26f253084398a86f744d9d564eab": {
          "model_module": "@jupyter-widgets/base",
          "model_name": "LayoutModel",
          "model_module_version": "1.2.0",
          "state": {
            "_model_module": "@jupyter-widgets/base",
            "_model_module_version": "1.2.0",
            "_model_name": "LayoutModel",
            "_view_count": null,
            "_view_module": "@jupyter-widgets/base",
            "_view_module_version": "1.2.0",
            "_view_name": "LayoutView",
            "align_content": null,
            "align_items": null,
            "align_self": null,
            "border": null,
            "bottom": null,
            "display": null,
            "flex": null,
            "flex_flow": null,
            "grid_area": null,
            "grid_auto_columns": null,
            "grid_auto_flow": null,
            "grid_auto_rows": null,
            "grid_column": null,
            "grid_gap": null,
            "grid_row": null,
            "grid_template_areas": null,
            "grid_template_columns": null,
            "grid_template_rows": null,
            "height": null,
            "justify_content": null,
            "justify_items": null,
            "left": null,
            "margin": null,
            "max_height": null,
            "max_width": null,
            "min_height": null,
            "min_width": null,
            "object_fit": null,
            "object_position": null,
            "order": null,
            "overflow": null,
            "overflow_x": null,
            "overflow_y": null,
            "padding": null,
            "right": null,
            "top": null,
            "visibility": null,
            "width": null
          }
        },
        "3e3b02ea5426480f80e16ad215e0a0f3": {
          "model_module": "@jupyter-widgets/controls",
          "model_name": "ProgressStyleModel",
          "model_module_version": "1.5.0",
          "state": {
            "_model_module": "@jupyter-widgets/controls",
            "_model_module_version": "1.5.0",
            "_model_name": "ProgressStyleModel",
            "_view_count": null,
            "_view_module": "@jupyter-widgets/base",
            "_view_module_version": "1.2.0",
            "_view_name": "StyleView",
            "bar_color": null,
            "description_width": ""
          }
        },
        "67d1b7ac6e5c48448ce698b2c04f563b": {
          "model_module": "@jupyter-widgets/base",
          "model_name": "LayoutModel",
          "model_module_version": "1.2.0",
          "state": {
            "_model_module": "@jupyter-widgets/base",
            "_model_module_version": "1.2.0",
            "_model_name": "LayoutModel",
            "_view_count": null,
            "_view_module": "@jupyter-widgets/base",
            "_view_module_version": "1.2.0",
            "_view_name": "LayoutView",
            "align_content": null,
            "align_items": null,
            "align_self": null,
            "border": null,
            "bottom": null,
            "display": null,
            "flex": null,
            "flex_flow": null,
            "grid_area": null,
            "grid_auto_columns": null,
            "grid_auto_flow": null,
            "grid_auto_rows": null,
            "grid_column": null,
            "grid_gap": null,
            "grid_row": null,
            "grid_template_areas": null,
            "grid_template_columns": null,
            "grid_template_rows": null,
            "height": null,
            "justify_content": null,
            "justify_items": null,
            "left": null,
            "margin": null,
            "max_height": null,
            "max_width": null,
            "min_height": null,
            "min_width": null,
            "object_fit": null,
            "object_position": null,
            "order": null,
            "overflow": null,
            "overflow_x": null,
            "overflow_y": null,
            "padding": null,
            "right": null,
            "top": null,
            "visibility": null,
            "width": null
          }
        },
        "680e42a8ccb34eaab1fca66c08ff3d91": {
          "model_module": "@jupyter-widgets/controls",
          "model_name": "DescriptionStyleModel",
          "model_module_version": "1.5.0",
          "state": {
            "_model_module": "@jupyter-widgets/controls",
            "_model_module_version": "1.5.0",
            "_model_name": "DescriptionStyleModel",
            "_view_count": null,
            "_view_module": "@jupyter-widgets/base",
            "_view_module_version": "1.2.0",
            "_view_name": "StyleView",
            "description_width": ""
          }
        },
        "c397296bc30248cc81af6cfc9e4df0a3": {
          "model_module": "@jupyter-widgets/controls",
          "model_name": "HBoxModel",
          "model_module_version": "1.5.0",
          "state": {
            "_dom_classes": [],
            "_model_module": "@jupyter-widgets/controls",
            "_model_module_version": "1.5.0",
            "_model_name": "HBoxModel",
            "_view_count": null,
            "_view_module": "@jupyter-widgets/controls",
            "_view_module_version": "1.5.0",
            "_view_name": "HBoxView",
            "box_style": "",
            "children": [
              "IPY_MODEL_eee3e4b7b74a4337858fd15ee24031d9",
              "IPY_MODEL_faedec36ea264bee88e09f9411e46a9f",
              "IPY_MODEL_7cb802abde9e4cf7bcb80d58b1a5db0e"
            ],
            "layout": "IPY_MODEL_ea4fb83a4d8e4102ab520c1ec1ea7ccd"
          }
        },
        "eee3e4b7b74a4337858fd15ee24031d9": {
          "model_module": "@jupyter-widgets/controls",
          "model_name": "HTMLModel",
          "model_module_version": "1.5.0",
          "state": {
            "_dom_classes": [],
            "_model_module": "@jupyter-widgets/controls",
            "_model_module_version": "1.5.0",
            "_model_name": "HTMLModel",
            "_view_count": null,
            "_view_module": "@jupyter-widgets/controls",
            "_view_module_version": "1.5.0",
            "_view_name": "HTMLView",
            "description": "",
            "description_tooltip": null,
            "layout": "IPY_MODEL_9406b75c83e3444a9e335d391d6d764f",
            "placeholder": "​",
            "style": "IPY_MODEL_675c348ae647471381b22f570630e041",
            "value": "Generating test examples...:  96%"
          }
        },
        "faedec36ea264bee88e09f9411e46a9f": {
          "model_module": "@jupyter-widgets/controls",
          "model_name": "FloatProgressModel",
          "model_module_version": "1.5.0",
          "state": {
            "_dom_classes": [],
            "_model_module": "@jupyter-widgets/controls",
            "_model_module_version": "1.5.0",
            "_model_name": "FloatProgressModel",
            "_view_count": null,
            "_view_module": "@jupyter-widgets/controls",
            "_view_module_version": "1.5.0",
            "_view_name": "ProgressView",
            "bar_style": "",
            "description": "",
            "description_tooltip": null,
            "layout": "IPY_MODEL_d769b16555e84ffe9f1ae162ae2629f6",
            "max": 10000,
            "min": 0,
            "orientation": "horizontal",
            "style": "IPY_MODEL_f9bdee7f7dba4a9991b1ea5e191d0594",
            "value": 10000
          }
        },
        "7cb802abde9e4cf7bcb80d58b1a5db0e": {
          "model_module": "@jupyter-widgets/controls",
          "model_name": "HTMLModel",
          "model_module_version": "1.5.0",
          "state": {
            "_dom_classes": [],
            "_model_module": "@jupyter-widgets/controls",
            "_model_module_version": "1.5.0",
            "_model_name": "HTMLModel",
            "_view_count": null,
            "_view_module": "@jupyter-widgets/controls",
            "_view_module_version": "1.5.0",
            "_view_name": "HTMLView",
            "description": "",
            "description_tooltip": null,
            "layout": "IPY_MODEL_cda6d670bcd24db0904fb316744ee79e",
            "placeholder": "​",
            "style": "IPY_MODEL_5714ab8456914a9ca7a3f6920300a5eb",
            "value": " 9574/10000 [00:08&lt;00:00, 1109.88 examples/s]"
          }
        },
        "ea4fb83a4d8e4102ab520c1ec1ea7ccd": {
          "model_module": "@jupyter-widgets/base",
          "model_name": "LayoutModel",
          "model_module_version": "1.2.0",
          "state": {
            "_model_module": "@jupyter-widgets/base",
            "_model_module_version": "1.2.0",
            "_model_name": "LayoutModel",
            "_view_count": null,
            "_view_module": "@jupyter-widgets/base",
            "_view_module_version": "1.2.0",
            "_view_name": "LayoutView",
            "align_content": null,
            "align_items": null,
            "align_self": null,
            "border": null,
            "bottom": null,
            "display": null,
            "flex": null,
            "flex_flow": null,
            "grid_area": null,
            "grid_auto_columns": null,
            "grid_auto_flow": null,
            "grid_auto_rows": null,
            "grid_column": null,
            "grid_gap": null,
            "grid_row": null,
            "grid_template_areas": null,
            "grid_template_columns": null,
            "grid_template_rows": null,
            "height": null,
            "justify_content": null,
            "justify_items": null,
            "left": null,
            "margin": null,
            "max_height": null,
            "max_width": null,
            "min_height": null,
            "min_width": null,
            "object_fit": null,
            "object_position": null,
            "order": null,
            "overflow": null,
            "overflow_x": null,
            "overflow_y": null,
            "padding": null,
            "right": null,
            "top": null,
            "visibility": "hidden",
            "width": null
          }
        },
        "9406b75c83e3444a9e335d391d6d764f": {
          "model_module": "@jupyter-widgets/base",
          "model_name": "LayoutModel",
          "model_module_version": "1.2.0",
          "state": {
            "_model_module": "@jupyter-widgets/base",
            "_model_module_version": "1.2.0",
            "_model_name": "LayoutModel",
            "_view_count": null,
            "_view_module": "@jupyter-widgets/base",
            "_view_module_version": "1.2.0",
            "_view_name": "LayoutView",
            "align_content": null,
            "align_items": null,
            "align_self": null,
            "border": null,
            "bottom": null,
            "display": null,
            "flex": null,
            "flex_flow": null,
            "grid_area": null,
            "grid_auto_columns": null,
            "grid_auto_flow": null,
            "grid_auto_rows": null,
            "grid_column": null,
            "grid_gap": null,
            "grid_row": null,
            "grid_template_areas": null,
            "grid_template_columns": null,
            "grid_template_rows": null,
            "height": null,
            "justify_content": null,
            "justify_items": null,
            "left": null,
            "margin": null,
            "max_height": null,
            "max_width": null,
            "min_height": null,
            "min_width": null,
            "object_fit": null,
            "object_position": null,
            "order": null,
            "overflow": null,
            "overflow_x": null,
            "overflow_y": null,
            "padding": null,
            "right": null,
            "top": null,
            "visibility": null,
            "width": null
          }
        },
        "675c348ae647471381b22f570630e041": {
          "model_module": "@jupyter-widgets/controls",
          "model_name": "DescriptionStyleModel",
          "model_module_version": "1.5.0",
          "state": {
            "_model_module": "@jupyter-widgets/controls",
            "_model_module_version": "1.5.0",
            "_model_name": "DescriptionStyleModel",
            "_view_count": null,
            "_view_module": "@jupyter-widgets/base",
            "_view_module_version": "1.2.0",
            "_view_name": "StyleView",
            "description_width": ""
          }
        },
        "d769b16555e84ffe9f1ae162ae2629f6": {
          "model_module": "@jupyter-widgets/base",
          "model_name": "LayoutModel",
          "model_module_version": "1.2.0",
          "state": {
            "_model_module": "@jupyter-widgets/base",
            "_model_module_version": "1.2.0",
            "_model_name": "LayoutModel",
            "_view_count": null,
            "_view_module": "@jupyter-widgets/base",
            "_view_module_version": "1.2.0",
            "_view_name": "LayoutView",
            "align_content": null,
            "align_items": null,
            "align_self": null,
            "border": null,
            "bottom": null,
            "display": null,
            "flex": null,
            "flex_flow": null,
            "grid_area": null,
            "grid_auto_columns": null,
            "grid_auto_flow": null,
            "grid_auto_rows": null,
            "grid_column": null,
            "grid_gap": null,
            "grid_row": null,
            "grid_template_areas": null,
            "grid_template_columns": null,
            "grid_template_rows": null,
            "height": null,
            "justify_content": null,
            "justify_items": null,
            "left": null,
            "margin": null,
            "max_height": null,
            "max_width": null,
            "min_height": null,
            "min_width": null,
            "object_fit": null,
            "object_position": null,
            "order": null,
            "overflow": null,
            "overflow_x": null,
            "overflow_y": null,
            "padding": null,
            "right": null,
            "top": null,
            "visibility": null,
            "width": null
          }
        },
        "f9bdee7f7dba4a9991b1ea5e191d0594": {
          "model_module": "@jupyter-widgets/controls",
          "model_name": "ProgressStyleModel",
          "model_module_version": "1.5.0",
          "state": {
            "_model_module": "@jupyter-widgets/controls",
            "_model_module_version": "1.5.0",
            "_model_name": "ProgressStyleModel",
            "_view_count": null,
            "_view_module": "@jupyter-widgets/base",
            "_view_module_version": "1.2.0",
            "_view_name": "StyleView",
            "bar_color": null,
            "description_width": ""
          }
        },
        "cda6d670bcd24db0904fb316744ee79e": {
          "model_module": "@jupyter-widgets/base",
          "model_name": "LayoutModel",
          "model_module_version": "1.2.0",
          "state": {
            "_model_module": "@jupyter-widgets/base",
            "_model_module_version": "1.2.0",
            "_model_name": "LayoutModel",
            "_view_count": null,
            "_view_module": "@jupyter-widgets/base",
            "_view_module_version": "1.2.0",
            "_view_name": "LayoutView",
            "align_content": null,
            "align_items": null,
            "align_self": null,
            "border": null,
            "bottom": null,
            "display": null,
            "flex": null,
            "flex_flow": null,
            "grid_area": null,
            "grid_auto_columns": null,
            "grid_auto_flow": null,
            "grid_auto_rows": null,
            "grid_column": null,
            "grid_gap": null,
            "grid_row": null,
            "grid_template_areas": null,
            "grid_template_columns": null,
            "grid_template_rows": null,
            "height": null,
            "justify_content": null,
            "justify_items": null,
            "left": null,
            "margin": null,
            "max_height": null,
            "max_width": null,
            "min_height": null,
            "min_width": null,
            "object_fit": null,
            "object_position": null,
            "order": null,
            "overflow": null,
            "overflow_x": null,
            "overflow_y": null,
            "padding": null,
            "right": null,
            "top": null,
            "visibility": null,
            "width": null
          }
        },
        "5714ab8456914a9ca7a3f6920300a5eb": {
          "model_module": "@jupyter-widgets/controls",
          "model_name": "DescriptionStyleModel",
          "model_module_version": "1.5.0",
          "state": {
            "_model_module": "@jupyter-widgets/controls",
            "_model_module_version": "1.5.0",
            "_model_name": "DescriptionStyleModel",
            "_view_count": null,
            "_view_module": "@jupyter-widgets/base",
            "_view_module_version": "1.2.0",
            "_view_name": "StyleView",
            "description_width": ""
          }
        },
        "ab9f3501de744e4280626dc7cad463ad": {
          "model_module": "@jupyter-widgets/controls",
          "model_name": "HBoxModel",
          "model_module_version": "1.5.0",
          "state": {
            "_dom_classes": [],
            "_model_module": "@jupyter-widgets/controls",
            "_model_module_version": "1.5.0",
            "_model_name": "HBoxModel",
            "_view_count": null,
            "_view_module": "@jupyter-widgets/controls",
            "_view_module_version": "1.5.0",
            "_view_name": "HBoxView",
            "box_style": "",
            "children": [
              "IPY_MODEL_9af7f7ca3b304b84b830ab7f354a622b",
              "IPY_MODEL_68e1ebd9724842dcbd5628075ce63251",
              "IPY_MODEL_8efeadff5ae3492086e8cf157bbfe7d9"
            ],
            "layout": "IPY_MODEL_ecb8a5de33684e189ee850e23ff9b4ee"
          }
        },
        "9af7f7ca3b304b84b830ab7f354a622b": {
          "model_module": "@jupyter-widgets/controls",
          "model_name": "HTMLModel",
          "model_module_version": "1.5.0",
          "state": {
            "_dom_classes": [],
            "_model_module": "@jupyter-widgets/controls",
            "_model_module_version": "1.5.0",
            "_model_name": "HTMLModel",
            "_view_count": null,
            "_view_module": "@jupyter-widgets/controls",
            "_view_module_version": "1.5.0",
            "_view_name": "HTMLView",
            "description": "",
            "description_tooltip": null,
            "layout": "IPY_MODEL_dc984a89846a4e68b3bb5a6c87177f46",
            "placeholder": "​",
            "style": "IPY_MODEL_6cbd0af73c234334863f5af7c48f1699",
            "value": "Shuffling /root/tensorflow_datasets/cifar10/3.0.2.incompleteX1ILUM/cifar10-test.tfrecord*...:  75%"
          }
        },
        "68e1ebd9724842dcbd5628075ce63251": {
          "model_module": "@jupyter-widgets/controls",
          "model_name": "FloatProgressModel",
          "model_module_version": "1.5.0",
          "state": {
            "_dom_classes": [],
            "_model_module": "@jupyter-widgets/controls",
            "_model_module_version": "1.5.0",
            "_model_name": "FloatProgressModel",
            "_view_count": null,
            "_view_module": "@jupyter-widgets/controls",
            "_view_module_version": "1.5.0",
            "_view_name": "ProgressView",
            "bar_style": "",
            "description": "",
            "description_tooltip": null,
            "layout": "IPY_MODEL_0d8993cf0b134689aba5698c37f9fab8",
            "max": 10000,
            "min": 0,
            "orientation": "horizontal",
            "style": "IPY_MODEL_fa5831ccd1b6436fb2efb37f2e7d38db",
            "value": 10000
          }
        },
        "8efeadff5ae3492086e8cf157bbfe7d9": {
          "model_module": "@jupyter-widgets/controls",
          "model_name": "HTMLModel",
          "model_module_version": "1.5.0",
          "state": {
            "_dom_classes": [],
            "_model_module": "@jupyter-widgets/controls",
            "_model_module_version": "1.5.0",
            "_model_name": "HTMLModel",
            "_view_count": null,
            "_view_module": "@jupyter-widgets/controls",
            "_view_module_version": "1.5.0",
            "_view_name": "HTMLView",
            "description": "",
            "description_tooltip": null,
            "layout": "IPY_MODEL_bb02b14b6b2a4f7b90debe5b3769abcd",
            "placeholder": "​",
            "style": "IPY_MODEL_4818fb0da54d4e6794a06b3d389637da",
            "value": " 7524/10000 [00:00&lt;00:00, 75225.72 examples/s]"
          }
        },
        "ecb8a5de33684e189ee850e23ff9b4ee": {
          "model_module": "@jupyter-widgets/base",
          "model_name": "LayoutModel",
          "model_module_version": "1.2.0",
          "state": {
            "_model_module": "@jupyter-widgets/base",
            "_model_module_version": "1.2.0",
            "_model_name": "LayoutModel",
            "_view_count": null,
            "_view_module": "@jupyter-widgets/base",
            "_view_module_version": "1.2.0",
            "_view_name": "LayoutView",
            "align_content": null,
            "align_items": null,
            "align_self": null,
            "border": null,
            "bottom": null,
            "display": null,
            "flex": null,
            "flex_flow": null,
            "grid_area": null,
            "grid_auto_columns": null,
            "grid_auto_flow": null,
            "grid_auto_rows": null,
            "grid_column": null,
            "grid_gap": null,
            "grid_row": null,
            "grid_template_areas": null,
            "grid_template_columns": null,
            "grid_template_rows": null,
            "height": null,
            "justify_content": null,
            "justify_items": null,
            "left": null,
            "margin": null,
            "max_height": null,
            "max_width": null,
            "min_height": null,
            "min_width": null,
            "object_fit": null,
            "object_position": null,
            "order": null,
            "overflow": null,
            "overflow_x": null,
            "overflow_y": null,
            "padding": null,
            "right": null,
            "top": null,
            "visibility": "hidden",
            "width": null
          }
        },
        "dc984a89846a4e68b3bb5a6c87177f46": {
          "model_module": "@jupyter-widgets/base",
          "model_name": "LayoutModel",
          "model_module_version": "1.2.0",
          "state": {
            "_model_module": "@jupyter-widgets/base",
            "_model_module_version": "1.2.0",
            "_model_name": "LayoutModel",
            "_view_count": null,
            "_view_module": "@jupyter-widgets/base",
            "_view_module_version": "1.2.0",
            "_view_name": "LayoutView",
            "align_content": null,
            "align_items": null,
            "align_self": null,
            "border": null,
            "bottom": null,
            "display": null,
            "flex": null,
            "flex_flow": null,
            "grid_area": null,
            "grid_auto_columns": null,
            "grid_auto_flow": null,
            "grid_auto_rows": null,
            "grid_column": null,
            "grid_gap": null,
            "grid_row": null,
            "grid_template_areas": null,
            "grid_template_columns": null,
            "grid_template_rows": null,
            "height": null,
            "justify_content": null,
            "justify_items": null,
            "left": null,
            "margin": null,
            "max_height": null,
            "max_width": null,
            "min_height": null,
            "min_width": null,
            "object_fit": null,
            "object_position": null,
            "order": null,
            "overflow": null,
            "overflow_x": null,
            "overflow_y": null,
            "padding": null,
            "right": null,
            "top": null,
            "visibility": null,
            "width": null
          }
        },
        "6cbd0af73c234334863f5af7c48f1699": {
          "model_module": "@jupyter-widgets/controls",
          "model_name": "DescriptionStyleModel",
          "model_module_version": "1.5.0",
          "state": {
            "_model_module": "@jupyter-widgets/controls",
            "_model_module_version": "1.5.0",
            "_model_name": "DescriptionStyleModel",
            "_view_count": null,
            "_view_module": "@jupyter-widgets/base",
            "_view_module_version": "1.2.0",
            "_view_name": "StyleView",
            "description_width": ""
          }
        },
        "0d8993cf0b134689aba5698c37f9fab8": {
          "model_module": "@jupyter-widgets/base",
          "model_name": "LayoutModel",
          "model_module_version": "1.2.0",
          "state": {
            "_model_module": "@jupyter-widgets/base",
            "_model_module_version": "1.2.0",
            "_model_name": "LayoutModel",
            "_view_count": null,
            "_view_module": "@jupyter-widgets/base",
            "_view_module_version": "1.2.0",
            "_view_name": "LayoutView",
            "align_content": null,
            "align_items": null,
            "align_self": null,
            "border": null,
            "bottom": null,
            "display": null,
            "flex": null,
            "flex_flow": null,
            "grid_area": null,
            "grid_auto_columns": null,
            "grid_auto_flow": null,
            "grid_auto_rows": null,
            "grid_column": null,
            "grid_gap": null,
            "grid_row": null,
            "grid_template_areas": null,
            "grid_template_columns": null,
            "grid_template_rows": null,
            "height": null,
            "justify_content": null,
            "justify_items": null,
            "left": null,
            "margin": null,
            "max_height": null,
            "max_width": null,
            "min_height": null,
            "min_width": null,
            "object_fit": null,
            "object_position": null,
            "order": null,
            "overflow": null,
            "overflow_x": null,
            "overflow_y": null,
            "padding": null,
            "right": null,
            "top": null,
            "visibility": null,
            "width": null
          }
        },
        "fa5831ccd1b6436fb2efb37f2e7d38db": {
          "model_module": "@jupyter-widgets/controls",
          "model_name": "ProgressStyleModel",
          "model_module_version": "1.5.0",
          "state": {
            "_model_module": "@jupyter-widgets/controls",
            "_model_module_version": "1.5.0",
            "_model_name": "ProgressStyleModel",
            "_view_count": null,
            "_view_module": "@jupyter-widgets/base",
            "_view_module_version": "1.2.0",
            "_view_name": "StyleView",
            "bar_color": null,
            "description_width": ""
          }
        },
        "bb02b14b6b2a4f7b90debe5b3769abcd": {
          "model_module": "@jupyter-widgets/base",
          "model_name": "LayoutModel",
          "model_module_version": "1.2.0",
          "state": {
            "_model_module": "@jupyter-widgets/base",
            "_model_module_version": "1.2.0",
            "_model_name": "LayoutModel",
            "_view_count": null,
            "_view_module": "@jupyter-widgets/base",
            "_view_module_version": "1.2.0",
            "_view_name": "LayoutView",
            "align_content": null,
            "align_items": null,
            "align_self": null,
            "border": null,
            "bottom": null,
            "display": null,
            "flex": null,
            "flex_flow": null,
            "grid_area": null,
            "grid_auto_columns": null,
            "grid_auto_flow": null,
            "grid_auto_rows": null,
            "grid_column": null,
            "grid_gap": null,
            "grid_row": null,
            "grid_template_areas": null,
            "grid_template_columns": null,
            "grid_template_rows": null,
            "height": null,
            "justify_content": null,
            "justify_items": null,
            "left": null,
            "margin": null,
            "max_height": null,
            "max_width": null,
            "min_height": null,
            "min_width": null,
            "object_fit": null,
            "object_position": null,
            "order": null,
            "overflow": null,
            "overflow_x": null,
            "overflow_y": null,
            "padding": null,
            "right": null,
            "top": null,
            "visibility": null,
            "width": null
          }
        },
        "4818fb0da54d4e6794a06b3d389637da": {
          "model_module": "@jupyter-widgets/controls",
          "model_name": "DescriptionStyleModel",
          "model_module_version": "1.5.0",
          "state": {
            "_model_module": "@jupyter-widgets/controls",
            "_model_module_version": "1.5.0",
            "_model_name": "DescriptionStyleModel",
            "_view_count": null,
            "_view_module": "@jupyter-widgets/base",
            "_view_module_version": "1.2.0",
            "_view_name": "StyleView",
            "description_width": ""
          }
        }
      }
    }
  },
  "nbformat": 4,
  "nbformat_minor": 0
}